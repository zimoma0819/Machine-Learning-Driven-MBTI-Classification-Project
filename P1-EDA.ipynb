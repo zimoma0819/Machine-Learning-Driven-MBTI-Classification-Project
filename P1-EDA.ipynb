{
 "cells": [
  {
   "cell_type": "code",
   "execution_count": 35,
   "metadata": {},
   "outputs": [],
   "source": [
    "import numpy as np\n",
    "import pandas as pd\n",
    "import matplotlib.pyplot as plt\n",
    "import seaborn as sns\n",
    "import csv\n",
    "import re\n",
    "import nltk\n",
    "from nltk import sent_tokenize\n",
    "from nltk import word_tokenize"
   ]
  },
  {
   "cell_type": "markdown",
   "metadata": {},
   "source": [
    "Data link: https://www.kaggle.com/datasets/datasnaek/mbti-type/data"
   ]
  },
  {
   "cell_type": "code",
   "execution_count": 36,
   "metadata": {},
   "outputs": [
    {
     "data": {
      "text/html": [
       "<div>\n",
       "<style scoped>\n",
       "    .dataframe tbody tr th:only-of-type {\n",
       "        vertical-align: middle;\n",
       "    }\n",
       "\n",
       "    .dataframe tbody tr th {\n",
       "        vertical-align: top;\n",
       "    }\n",
       "\n",
       "    .dataframe thead th {\n",
       "        text-align: right;\n",
       "    }\n",
       "</style>\n",
       "<table border=\"1\" class=\"dataframe\">\n",
       "  <thead>\n",
       "    <tr style=\"text-align: right;\">\n",
       "      <th></th>\n",
       "      <th>Type</th>\n",
       "      <th>Posts</th>\n",
       "    </tr>\n",
       "  </thead>\n",
       "  <tbody>\n",
       "    <tr>\n",
       "      <th>0</th>\n",
       "      <td>INFJ</td>\n",
       "      <td>'http://www.youtube.com/watch?v=qsXHcwe3krw|||...</td>\n",
       "    </tr>\n",
       "    <tr>\n",
       "      <th>1</th>\n",
       "      <td>ENTP</td>\n",
       "      <td>'I'm finding the lack of me in these posts ver...</td>\n",
       "    </tr>\n",
       "    <tr>\n",
       "      <th>2</th>\n",
       "      <td>INTP</td>\n",
       "      <td>'Good one  _____   https://www.youtube.com/wat...</td>\n",
       "    </tr>\n",
       "    <tr>\n",
       "      <th>3</th>\n",
       "      <td>INTJ</td>\n",
       "      <td>'Dear INTP,   I enjoyed our conversation the o...</td>\n",
       "    </tr>\n",
       "    <tr>\n",
       "      <th>4</th>\n",
       "      <td>ENTJ</td>\n",
       "      <td>'You're fired.|||That's another silly misconce...</td>\n",
       "    </tr>\n",
       "    <tr>\n",
       "      <th>...</th>\n",
       "      <td>...</td>\n",
       "      <td>...</td>\n",
       "    </tr>\n",
       "    <tr>\n",
       "      <th>8670</th>\n",
       "      <td>ISFP</td>\n",
       "      <td>'https://www.youtube.com/watch?v=t8edHB_h908||...</td>\n",
       "    </tr>\n",
       "    <tr>\n",
       "      <th>8671</th>\n",
       "      <td>ENFP</td>\n",
       "      <td>'So...if this thread already exists someplace ...</td>\n",
       "    </tr>\n",
       "    <tr>\n",
       "      <th>8672</th>\n",
       "      <td>INTP</td>\n",
       "      <td>'So many questions when i do these things.  I ...</td>\n",
       "    </tr>\n",
       "    <tr>\n",
       "      <th>8673</th>\n",
       "      <td>INFP</td>\n",
       "      <td>'I am very conflicted right now when it comes ...</td>\n",
       "    </tr>\n",
       "    <tr>\n",
       "      <th>8674</th>\n",
       "      <td>INFP</td>\n",
       "      <td>'It has been too long since I have been on per...</td>\n",
       "    </tr>\n",
       "  </tbody>\n",
       "</table>\n",
       "<p>8675 rows × 2 columns</p>\n",
       "</div>"
      ],
      "text/plain": [
       "      Type                                              Posts\n",
       "0     INFJ  'http://www.youtube.com/watch?v=qsXHcwe3krw|||...\n",
       "1     ENTP  'I'm finding the lack of me in these posts ver...\n",
       "2     INTP  'Good one  _____   https://www.youtube.com/wat...\n",
       "3     INTJ  'Dear INTP,   I enjoyed our conversation the o...\n",
       "4     ENTJ  'You're fired.|||That's another silly misconce...\n",
       "...    ...                                                ...\n",
       "8670  ISFP  'https://www.youtube.com/watch?v=t8edHB_h908||...\n",
       "8671  ENFP  'So...if this thread already exists someplace ...\n",
       "8672  INTP  'So many questions when i do these things.  I ...\n",
       "8673  INFP  'I am very conflicted right now when it comes ...\n",
       "8674  INFP  'It has been too long since I have been on per...\n",
       "\n",
       "[8675 rows x 2 columns]"
      ]
     },
     "execution_count": 36,
     "metadata": {},
     "output_type": "execute_result"
    }
   ],
   "source": [
    "# read data from file to a pandas dataframe\n",
    "mbti_df = pd.read_csv('./mbti_data.csv', header = None, names = ['Type', 'Posts'])\n",
    "mbti_df\n"
   ]
  },
  {
   "cell_type": "code",
   "execution_count": 37,
   "metadata": {},
   "outputs": [
    {
     "data": {
      "text/plain": [
       "0       INFJ\n",
       "1       ENTP\n",
       "2       INTP\n",
       "3       INTJ\n",
       "4       ENTJ\n",
       "        ... \n",
       "8670    ISFP\n",
       "8671    ENFP\n",
       "8672    INTP\n",
       "8673    INFP\n",
       "8674    INFP\n",
       "Name: Type, Length: 8675, dtype: category\n",
       "Categories (16, object): ['ENFJ', 'ENFP', 'ENTJ', 'ENTP', ..., 'ISFJ', 'ISFP', 'ISTJ', 'ISTP']"
      ]
     },
     "execution_count": 37,
     "metadata": {},
     "output_type": "execute_result"
    }
   ],
   "source": [
    "mbti_df['Type'] = mbti_df['Type'].astype('category')\n",
    "mbti_df['Type']"
   ]
  },
  {
   "cell_type": "code",
   "execution_count": 38,
   "metadata": {},
   "outputs": [
    {
     "data": {
      "text/plain": [
       "INFP    1832\n",
       "INFJ    1470\n",
       "INTP    1304\n",
       "INTJ    1091\n",
       "ENTP     685\n",
       "ENFP     675\n",
       "ISTP     337\n",
       "ISFP     271\n",
       "ENTJ     231\n",
       "ISTJ     205\n",
       "ENFJ     190\n",
       "ISFJ     166\n",
       "ESTP      89\n",
       "ESFP      48\n",
       "ESFJ      42\n",
       "ESTJ      39\n",
       "Name: Type, dtype: int64"
      ]
     },
     "execution_count": 38,
     "metadata": {},
     "output_type": "execute_result"
    }
   ],
   "source": [
    "mbti_df['Type'].value_counts()"
   ]
  },
  {
   "cell_type": "code",
   "execution_count": 39,
   "metadata": {},
   "outputs": [
    {
     "data": {
      "text/plain": [
       "[<matplotlib.lines.Line2D at 0x2eaa6d150>]"
      ]
     },
     "execution_count": 39,
     "metadata": {},
     "output_type": "execute_result"
    },
    {
     "data": {
      "image/png": "[encoded data removed]",
      "text/plain": [
       "<Figure size 640x480 with 1 Axes>"
      ]
     },
     "metadata": {},
     "output_type": "display_data"
    }
   ],
   "source": [
    "plt.plot(mbti_df['Type'].value_counts().values)"
   ]
  },
  {
   "cell_type": "code",
   "execution_count": 40,
   "metadata": {},
   "outputs": [
    {
     "data": {
      "text/plain": [
       "0       'http://www.youtube.com/watch?v=qsXHcwe3krw|||...\n",
       "1       'I'm finding the lack of me in these posts ver...\n",
       "2       'Good one  _____   https://www.youtube.com/wat...\n",
       "3       'Dear INTP,   I enjoyed our conversation the o...\n",
       "4       'You're fired.|||That's another silly misconce...\n",
       "                              ...                        \n",
       "8670    'https://www.youtube.com/watch?v=t8edHB_h908||...\n",
       "8671    'So...if this thread already exists someplace ...\n",
       "8672    'So many questions when i do these things.  I ...\n",
       "8673    'I am very conflicted right now when it comes ...\n",
       "8674    'It has been too long since I have been on per...\n",
       "Name: Posts, Length: 8675, dtype: object"
      ]
     },
     "execution_count": 40,
     "metadata": {},
     "output_type": "execute_result"
    }
   ],
   "source": [
    "mbti_df['Posts'] = mbti_df['Posts'].astype('str')\n",
    "mbti_df['Posts']"
   ]
  },
  {
   "cell_type": "code",
   "execution_count": 41,
   "metadata": {},
   "outputs": [],
   "source": [
    "def clean_text(text):\n",
    "    text = text.lower()\n",
    "    text = re.sub(r'http\\S+', r' ', text)\n",
    "    text = re.sub(r\"'\", r' ', text)\n",
    "    return text"
   ]
  },
  {
   "cell_type": "code",
   "execution_count": 42,
   "metadata": {},
   "outputs": [],
   "source": [
    "# expand the posts into a list of posts\n",
    "expanded_posts = []\n",
    "\n",
    "for i, r in mbti_df.iterrows():\n",
    "    for j in r:\n",
    "        posts = r['Posts'].split('|||')\n",
    "        for post in posts:\n",
    "            if post:\n",
    "                expanded_posts.append([r['Type'], post])"
   ]
  },
  {
   "cell_type": "code",
   "execution_count": 43,
   "metadata": {},
   "outputs": [
    {
     "data": {
      "text/html": [
       "<div>\n",
       "<style scoped>\n",
       "    .dataframe tbody tr th:only-of-type {\n",
       "        vertical-align: middle;\n",
       "    }\n",
       "\n",
       "    .dataframe tbody tr th {\n",
       "        vertical-align: top;\n",
       "    }\n",
       "\n",
       "    .dataframe thead th {\n",
       "        text-align: right;\n",
       "    }\n",
       "</style>\n",
       "<table border=\"1\" class=\"dataframe\">\n",
       "  <thead>\n",
       "    <tr style=\"text-align: right;\">\n",
       "      <th></th>\n",
       "      <th>Type</th>\n",
       "      <th>Post</th>\n",
       "    </tr>\n",
       "  </thead>\n",
       "  <tbody>\n",
       "    <tr>\n",
       "      <th>0</th>\n",
       "      <td>INFJ</td>\n",
       "      <td>'http://www.youtube.com/watch?v=qsXHcwe3krw</td>\n",
       "    </tr>\n",
       "    <tr>\n",
       "      <th>1</th>\n",
       "      <td>INFJ</td>\n",
       "      <td>http://41.media.tumblr.com/tumblr_lfouy03PMA1q...</td>\n",
       "    </tr>\n",
       "    <tr>\n",
       "      <th>2</th>\n",
       "      <td>INFJ</td>\n",
       "      <td>enfp and intj moments  https://www.youtube.com...</td>\n",
       "    </tr>\n",
       "    <tr>\n",
       "      <th>3</th>\n",
       "      <td>INFJ</td>\n",
       "      <td>What has been the most life-changing experienc...</td>\n",
       "    </tr>\n",
       "    <tr>\n",
       "      <th>4</th>\n",
       "      <td>INFJ</td>\n",
       "      <td>http://www.youtube.com/watch?v=vXZeYwwRDw8   h...</td>\n",
       "    </tr>\n",
       "    <tr>\n",
       "      <th>...</th>\n",
       "      <td>...</td>\n",
       "      <td>...</td>\n",
       "    </tr>\n",
       "    <tr>\n",
       "      <th>843509</th>\n",
       "      <td>INFP</td>\n",
       "      <td>I was going to close my facebook a few months ...</td>\n",
       "    </tr>\n",
       "    <tr>\n",
       "      <th>843510</th>\n",
       "      <td>INFP</td>\n",
       "      <td>30 Seconds to Mars - All of my collections. It...</td>\n",
       "    </tr>\n",
       "    <tr>\n",
       "      <th>843511</th>\n",
       "      <td>INFP</td>\n",
       "      <td>I have seen it, and i agree. I did actually th...</td>\n",
       "    </tr>\n",
       "    <tr>\n",
       "      <th>843512</th>\n",
       "      <td>INFP</td>\n",
       "      <td>Ok so i have just watched Underworld 4 (Awaken...</td>\n",
       "    </tr>\n",
       "    <tr>\n",
       "      <th>843513</th>\n",
       "      <td>INFP</td>\n",
       "      <td>I would never want to turn off my emotions. so...</td>\n",
       "    </tr>\n",
       "  </tbody>\n",
       "</table>\n",
       "<p>843514 rows × 2 columns</p>\n",
       "</div>"
      ],
      "text/plain": [
       "        Type                                               Post\n",
       "0       INFJ        'http://www.youtube.com/watch?v=qsXHcwe3krw\n",
       "1       INFJ  http://41.media.tumblr.com/tumblr_lfouy03PMA1q...\n",
       "2       INFJ  enfp and intj moments  https://www.youtube.com...\n",
       "3       INFJ  What has been the most life-changing experienc...\n",
       "4       INFJ  http://www.youtube.com/watch?v=vXZeYwwRDw8   h...\n",
       "...      ...                                                ...\n",
       "843509  INFP  I was going to close my facebook a few months ...\n",
       "843510  INFP  30 Seconds to Mars - All of my collections. It...\n",
       "843511  INFP  I have seen it, and i agree. I did actually th...\n",
       "843512  INFP  Ok so i have just watched Underworld 4 (Awaken...\n",
       "843513  INFP  I would never want to turn off my emotions. so...\n",
       "\n",
       "[843514 rows x 2 columns]"
      ]
     },
     "execution_count": 43,
     "metadata": {},
     "output_type": "execute_result"
    }
   ],
   "source": [
    "expanded_mbti_df = pd.DataFrame(expanded_posts, columns=['Type', 'Post'])\n",
    "expanded_mbti_df"
   ]
  },
  {
   "cell_type": "code",
   "execution_count": 44,
   "metadata": {},
   "outputs": [
    {
     "data": {
      "text/html": [
       "<div>\n",
       "<style scoped>\n",
       "    .dataframe tbody tr th:only-of-type {\n",
       "        vertical-align: middle;\n",
       "    }\n",
       "\n",
       "    .dataframe tbody tr th {\n",
       "        vertical-align: top;\n",
       "    }\n",
       "\n",
       "    .dataframe thead th {\n",
       "        text-align: right;\n",
       "    }\n",
       "</style>\n",
       "<table border=\"1\" class=\"dataframe\">\n",
       "  <thead>\n",
       "    <tr style=\"text-align: right;\">\n",
       "      <th></th>\n",
       "      <th>Type</th>\n",
       "      <th>Post</th>\n",
       "    </tr>\n",
       "  </thead>\n",
       "  <tbody>\n",
       "    <tr>\n",
       "      <th>0</th>\n",
       "      <td>INFJ</td>\n",
       "      <td></td>\n",
       "    </tr>\n",
       "    <tr>\n",
       "      <th>1</th>\n",
       "      <td>INFJ</td>\n",
       "      <td></td>\n",
       "    </tr>\n",
       "    <tr>\n",
       "      <th>2</th>\n",
       "      <td>INFJ</td>\n",
       "      <td>enfp and intj moments     sportscenter not top...</td>\n",
       "    </tr>\n",
       "    <tr>\n",
       "      <th>3</th>\n",
       "      <td>INFJ</td>\n",
       "      <td>what has been the most life-changing experienc...</td>\n",
       "    </tr>\n",
       "    <tr>\n",
       "      <th>4</th>\n",
       "      <td>INFJ</td>\n",
       "      <td>on repeat for most of today.</td>\n",
       "    </tr>\n",
       "    <tr>\n",
       "      <th>...</th>\n",
       "      <td>...</td>\n",
       "      <td>...</td>\n",
       "    </tr>\n",
       "    <tr>\n",
       "      <th>843509</th>\n",
       "      <td>INFP</td>\n",
       "      <td>i was going to close my facebook a few months ...</td>\n",
       "    </tr>\n",
       "    <tr>\n",
       "      <th>843510</th>\n",
       "      <td>INFP</td>\n",
       "      <td>30 seconds to mars - all of my collections. it...</td>\n",
       "    </tr>\n",
       "    <tr>\n",
       "      <th>843511</th>\n",
       "      <td>INFP</td>\n",
       "      <td>i have seen it, and i agree. i did actually th...</td>\n",
       "    </tr>\n",
       "    <tr>\n",
       "      <th>843512</th>\n",
       "      <td>INFP</td>\n",
       "      <td>ok so i have just watched underworld 4 (awaken...</td>\n",
       "    </tr>\n",
       "    <tr>\n",
       "      <th>843513</th>\n",
       "      <td>INFP</td>\n",
       "      <td>i would never want to turn off my emotions. so...</td>\n",
       "    </tr>\n",
       "  </tbody>\n",
       "</table>\n",
       "<p>843514 rows × 2 columns</p>\n",
       "</div>"
      ],
      "text/plain": [
       "        Type                                               Post\n",
       "0       INFJ                                                   \n",
       "1       INFJ                                                   \n",
       "2       INFJ  enfp and intj moments     sportscenter not top...\n",
       "3       INFJ  what has been the most life-changing experienc...\n",
       "4       INFJ                       on repeat for most of today.\n",
       "...      ...                                                ...\n",
       "843509  INFP  i was going to close my facebook a few months ...\n",
       "843510  INFP  30 seconds to mars - all of my collections. it...\n",
       "843511  INFP  i have seen it, and i agree. i did actually th...\n",
       "843512  INFP  ok so i have just watched underworld 4 (awaken...\n",
       "843513  INFP  i would never want to turn off my emotions. so...\n",
       "\n",
       "[843514 rows x 2 columns]"
      ]
     },
     "execution_count": 44,
     "metadata": {},
     "output_type": "execute_result"
    }
   ],
   "source": [
    "expanded_mbti_df['Post']= expanded_mbti_df['Post'].apply(clean_text)\n",
    "expanded_mbti_df"
   ]
  },
  {
   "cell_type": "code",
   "execution_count": 45,
   "metadata": {},
   "outputs": [
    {
     "data": {
      "text/plain": [
       "(843514, 2)"
      ]
     },
     "execution_count": 45,
     "metadata": {},
     "output_type": "execute_result"
    }
   ],
   "source": [
    "expanded_mbti_df.shape"
   ]
  },
  {
   "cell_type": "code",
   "execution_count": 46,
   "metadata": {},
   "outputs": [
    {
     "data": {
      "text/html": [
       "<div>\n",
       "<style scoped>\n",
       "    .dataframe tbody tr th:only-of-type {\n",
       "        vertical-align: middle;\n",
       "    }\n",
       "\n",
       "    .dataframe tbody tr th {\n",
       "        vertical-align: top;\n",
       "    }\n",
       "\n",
       "    .dataframe thead th {\n",
       "        text-align: right;\n",
       "    }\n",
       "</style>\n",
       "<table border=\"1\" class=\"dataframe\">\n",
       "  <thead>\n",
       "    <tr style=\"text-align: right;\">\n",
       "      <th></th>\n",
       "      <th>Type</th>\n",
       "      <th>Post</th>\n",
       "    </tr>\n",
       "  </thead>\n",
       "  <tbody>\n",
       "    <tr>\n",
       "      <th>2</th>\n",
       "      <td>INFJ</td>\n",
       "      <td>enfp and intj moments     sportscenter not top...</td>\n",
       "    </tr>\n",
       "    <tr>\n",
       "      <th>3</th>\n",
       "      <td>INFJ</td>\n",
       "      <td>what has been the most life-changing experienc...</td>\n",
       "    </tr>\n",
       "    <tr>\n",
       "      <th>4</th>\n",
       "      <td>INFJ</td>\n",
       "      <td>on repeat for most of today.</td>\n",
       "    </tr>\n",
       "    <tr>\n",
       "      <th>5</th>\n",
       "      <td>INFJ</td>\n",
       "      <td>may the perc experience immerse you.</td>\n",
       "    </tr>\n",
       "    <tr>\n",
       "      <th>6</th>\n",
       "      <td>INFJ</td>\n",
       "      <td>the last thing my infj friend posted on his fa...</td>\n",
       "    </tr>\n",
       "    <tr>\n",
       "      <th>...</th>\n",
       "      <td>...</td>\n",
       "      <td>...</td>\n",
       "    </tr>\n",
       "    <tr>\n",
       "      <th>843509</th>\n",
       "      <td>INFP</td>\n",
       "      <td>i was going to close my facebook a few months ...</td>\n",
       "    </tr>\n",
       "    <tr>\n",
       "      <th>843510</th>\n",
       "      <td>INFP</td>\n",
       "      <td>30 seconds to mars - all of my collections. it...</td>\n",
       "    </tr>\n",
       "    <tr>\n",
       "      <th>843511</th>\n",
       "      <td>INFP</td>\n",
       "      <td>i have seen it, and i agree. i did actually th...</td>\n",
       "    </tr>\n",
       "    <tr>\n",
       "      <th>843512</th>\n",
       "      <td>INFP</td>\n",
       "      <td>ok so i have just watched underworld 4 (awaken...</td>\n",
       "    </tr>\n",
       "    <tr>\n",
       "      <th>843513</th>\n",
       "      <td>INFP</td>\n",
       "      <td>i would never want to turn off my emotions. so...</td>\n",
       "    </tr>\n",
       "  </tbody>\n",
       "</table>\n",
       "<p>822192 rows × 2 columns</p>\n",
       "</div>"
      ],
      "text/plain": [
       "        Type                                               Post\n",
       "2       INFJ  enfp and intj moments     sportscenter not top...\n",
       "3       INFJ  what has been the most life-changing experienc...\n",
       "4       INFJ                       on repeat for most of today.\n",
       "5       INFJ               may the perc experience immerse you.\n",
       "6       INFJ  the last thing my infj friend posted on his fa...\n",
       "...      ...                                                ...\n",
       "843509  INFP  i was going to close my facebook a few months ...\n",
       "843510  INFP  30 seconds to mars - all of my collections. it...\n",
       "843511  INFP  i have seen it, and i agree. i did actually th...\n",
       "843512  INFP  ok so i have just watched underworld 4 (awaken...\n",
       "843513  INFP  i would never want to turn off my emotions. so...\n",
       "\n",
       "[822192 rows x 2 columns]"
      ]
     },
     "execution_count": 46,
     "metadata": {},
     "output_type": "execute_result"
    }
   ],
   "source": [
    "# Drop rows where 'Post' has empty or whitespace-only cells\n",
    "expanded_mbti_df = expanded_mbti_df[expanded_mbti_df['Post'].str.strip().str.len() > 0]\n",
    "expanded_mbti_df"
   ]
  },
  {
   "cell_type": "code",
   "execution_count": 47,
   "metadata": {},
   "outputs": [
    {
     "data": {
      "text/plain": [
       "Type    0\n",
       "Post    0\n",
       "dtype: int64"
      ]
     },
     "execution_count": 47,
     "metadata": {},
     "output_type": "execute_result"
    }
   ],
   "source": [
    "null_sum = expanded_mbti_df.isnull().sum()\n",
    "null_sum"
   ]
  },
  {
   "cell_type": "code",
   "execution_count": 48,
   "metadata": {},
   "outputs": [
    {
     "data": {
      "text/plain": [
       "(822192, 2)"
      ]
     },
     "execution_count": 48,
     "metadata": {},
     "output_type": "execute_result"
    }
   ],
   "source": [
    "expanded_mbti_df.shape"
   ]
  },
  {
   "cell_type": "code",
   "execution_count": 49,
   "metadata": {},
   "outputs": [],
   "source": [
    "# Define a function to strip periods and ellipses from a text\n",
    "def strip_periods_and_ellipses(text):\n",
    "    return text.replace('.', '').replace('...', '')"
   ]
  },
  {
   "cell_type": "code",
   "execution_count": 50,
   "metadata": {},
   "outputs": [],
   "source": [
    "expanded_mbti_df = expanded_mbti_df.applymap(strip_periods_and_ellipses)"
   ]
  },
  {
   "cell_type": "code",
   "execution_count": 51,
   "metadata": {},
   "outputs": [
    {
     "data": {
      "text/plain": [
       "2         enfp and intj moments     sportscenter not top...\n",
       "3         what has been the most life-changing experienc...\n",
       "4                               on repeat for most of today\n",
       "5                       may the perc experience immerse you\n",
       "6         the last thing my infj friend posted on his fa...\n",
       "                                ...                        \n",
       "843509    i was going to close my facebook a few months ...\n",
       "843510    30 seconds to mars - all of my collections it ...\n",
       "843511    i have seen it, and i agree i did actually thi...\n",
       "843512    ok so i have just watched underworld 4 (awaken...\n",
       "843513    i would never want to turn off my emotions som...\n",
       "Name: Post, Length: 822192, dtype: object"
      ]
     },
     "execution_count": 51,
     "metadata": {},
     "output_type": "execute_result"
    }
   ],
   "source": [
    "expanded_mbti_df['Post']"
   ]
  },
  {
   "cell_type": "code",
   "execution_count": 52,
   "metadata": {},
   "outputs": [],
   "source": [
    "from nltk.stem import PorterStemmer\n",
    "ps = PorterStemmer()"
   ]
  },
  {
   "cell_type": "code",
   "execution_count": 53,
   "metadata": {},
   "outputs": [],
   "source": [
    "from nltk.stem import WordNetLemmatizer \n",
    "lemmatizer = WordNetLemmatizer()"
   ]
  },
  {
   "cell_type": "code",
   "execution_count": 54,
   "metadata": {},
   "outputs": [
    {
     "data": {
      "text/html": [
       "<div>\n",
       "<style scoped>\n",
       "    .dataframe tbody tr th:only-of-type {\n",
       "        vertical-align: middle;\n",
       "    }\n",
       "\n",
       "    .dataframe tbody tr th {\n",
       "        vertical-align: top;\n",
       "    }\n",
       "\n",
       "    .dataframe thead th {\n",
       "        text-align: right;\n",
       "    }\n",
       "</style>\n",
       "<table border=\"1\" class=\"dataframe\">\n",
       "  <thead>\n",
       "    <tr style=\"text-align: right;\">\n",
       "      <th></th>\n",
       "      <th>Type</th>\n",
       "      <th>Post</th>\n",
       "    </tr>\n",
       "  </thead>\n",
       "  <tbody>\n",
       "    <tr>\n",
       "      <th>2</th>\n",
       "      <td>INFJ</td>\n",
       "      <td>[enfp, and, intj, moment, sportscenter, not, t...</td>\n",
       "    </tr>\n",
       "    <tr>\n",
       "      <th>3</th>\n",
       "      <td>INFJ</td>\n",
       "      <td>[what, ha, been, the, most, life-changing, exp...</td>\n",
       "    </tr>\n",
       "    <tr>\n",
       "      <th>4</th>\n",
       "      <td>INFJ</td>\n",
       "      <td>[on, repeat, for, most, of, today]</td>\n",
       "    </tr>\n",
       "    <tr>\n",
       "      <th>5</th>\n",
       "      <td>INFJ</td>\n",
       "      <td>[may, the, perc, experience, immerse, you]</td>\n",
       "    </tr>\n",
       "    <tr>\n",
       "      <th>6</th>\n",
       "      <td>INFJ</td>\n",
       "      <td>[the, last, thing, my, infj, friend, posted, o...</td>\n",
       "    </tr>\n",
       "    <tr>\n",
       "      <th>...</th>\n",
       "      <td>...</td>\n",
       "      <td>...</td>\n",
       "    </tr>\n",
       "    <tr>\n",
       "      <th>843509</th>\n",
       "      <td>INFP</td>\n",
       "      <td>[i, wa, going, to, close, my, facebook, a, few...</td>\n",
       "    </tr>\n",
       "    <tr>\n",
       "      <th>843510</th>\n",
       "      <td>INFP</td>\n",
       "      <td>[30, second, to, mar, -, all, of, my, collecti...</td>\n",
       "    </tr>\n",
       "    <tr>\n",
       "      <th>843511</th>\n",
       "      <td>INFP</td>\n",
       "      <td>[i, have, seen, it, ,, and, i, agree, i, did, ...</td>\n",
       "    </tr>\n",
       "    <tr>\n",
       "      <th>843512</th>\n",
       "      <td>INFP</td>\n",
       "      <td>[ok, so, i, have, just, watched, underworld, 4...</td>\n",
       "    </tr>\n",
       "    <tr>\n",
       "      <th>843513</th>\n",
       "      <td>INFP</td>\n",
       "      <td>[i, would, never, want, to, turn, off, my, emo...</td>\n",
       "    </tr>\n",
       "  </tbody>\n",
       "</table>\n",
       "<p>822192 rows × 2 columns</p>\n",
       "</div>"
      ],
      "text/plain": [
       "        Type                                               Post\n",
       "2       INFJ  [enfp, and, intj, moment, sportscenter, not, t...\n",
       "3       INFJ  [what, ha, been, the, most, life-changing, exp...\n",
       "4       INFJ                 [on, repeat, for, most, of, today]\n",
       "5       INFJ         [may, the, perc, experience, immerse, you]\n",
       "6       INFJ  [the, last, thing, my, infj, friend, posted, o...\n",
       "...      ...                                                ...\n",
       "843509  INFP  [i, wa, going, to, close, my, facebook, a, few...\n",
       "843510  INFP  [30, second, to, mar, -, all, of, my, collecti...\n",
       "843511  INFP  [i, have, seen, it, ,, and, i, agree, i, did, ...\n",
       "843512  INFP  [ok, so, i, have, just, watched, underworld, 4...\n",
       "843513  INFP  [i, would, never, want, to, turn, off, my, emo...\n",
       "\n",
       "[822192 rows x 2 columns]"
      ]
     },
     "execution_count": 54,
     "metadata": {},
     "output_type": "execute_result"
    }
   ],
   "source": [
    "lemmatized_mbti_df = expanded_mbti_df.copy()\n",
    "\n",
    "lemmatized_mbti_df['Post'] = [word_tokenize(post) for post in lemmatized_mbti_df['Post']]\n",
    "lemmatized_mbti_df['Post'] = lemmatized_mbti_df['Post'].apply(lambda posts_words: [lemmatizer.lemmatize(word) for word in posts_words])\n",
    "\n",
    "\n",
    "lemmatized_mbti_df"
   ]
  },
  {
   "cell_type": "code",
   "execution_count": 55,
   "metadata": {},
   "outputs": [
    {
     "data": {
      "text/html": [
       "<div>\n",
       "<style scoped>\n",
       "    .dataframe tbody tr th:only-of-type {\n",
       "        vertical-align: middle;\n",
       "    }\n",
       "\n",
       "    .dataframe tbody tr th {\n",
       "        vertical-align: top;\n",
       "    }\n",
       "\n",
       "    .dataframe thead th {\n",
       "        text-align: right;\n",
       "    }\n",
       "</style>\n",
       "<table border=\"1\" class=\"dataframe\">\n",
       "  <thead>\n",
       "    <tr style=\"text-align: right;\">\n",
       "      <th></th>\n",
       "      <th>Type</th>\n",
       "      <th>Post</th>\n",
       "    </tr>\n",
       "  </thead>\n",
       "  <tbody>\n",
       "    <tr>\n",
       "      <th>2</th>\n",
       "      <td>INFJ</td>\n",
       "      <td>[enfp, intj, moment, sportscenter, not, top, t...</td>\n",
       "    </tr>\n",
       "    <tr>\n",
       "      <th>3</th>\n",
       "      <td>INFJ</td>\n",
       "      <td>[what, been, most, life-changing, experience, ...</td>\n",
       "    </tr>\n",
       "    <tr>\n",
       "      <th>4</th>\n",
       "      <td>INFJ</td>\n",
       "      <td>[repeat, most, today]</td>\n",
       "    </tr>\n",
       "    <tr>\n",
       "      <th>5</th>\n",
       "      <td>INFJ</td>\n",
       "      <td>[may, perc, experience, immerse, you]</td>\n",
       "    </tr>\n",
       "    <tr>\n",
       "      <th>6</th>\n",
       "      <td>INFJ</td>\n",
       "      <td>[last, thing, my, infj, friend, posted, his, f...</td>\n",
       "    </tr>\n",
       "    <tr>\n",
       "      <th>...</th>\n",
       "      <td>...</td>\n",
       "      <td>...</td>\n",
       "    </tr>\n",
       "    <tr>\n",
       "      <th>843509</th>\n",
       "      <td>INFP</td>\n",
       "      <td>[i, going, close, my, facebook, a, few, month,...</td>\n",
       "    </tr>\n",
       "    <tr>\n",
       "      <th>843510</th>\n",
       "      <td>INFP</td>\n",
       "      <td>[30, second, mar, -, all, my, collection, seem...</td>\n",
       "    </tr>\n",
       "    <tr>\n",
       "      <th>843511</th>\n",
       "      <td>INFP</td>\n",
       "      <td>[i, have, seen, ,, i, agree, i, did, actually,...</td>\n",
       "    </tr>\n",
       "    <tr>\n",
       "      <th>843512</th>\n",
       "      <td>INFP</td>\n",
       "      <td>[ok, so, i, have, just, watched, underworld, 4...</td>\n",
       "    </tr>\n",
       "    <tr>\n",
       "      <th>843513</th>\n",
       "      <td>INFP</td>\n",
       "      <td>[i, would, never, want, turn, off, my, emotion...</td>\n",
       "    </tr>\n",
       "  </tbody>\n",
       "</table>\n",
       "<p>822192 rows × 2 columns</p>\n",
       "</div>"
      ],
      "text/plain": [
       "        Type                                               Post\n",
       "2       INFJ  [enfp, intj, moment, sportscenter, not, top, t...\n",
       "3       INFJ  [what, been, most, life-changing, experience, ...\n",
       "4       INFJ                              [repeat, most, today]\n",
       "5       INFJ              [may, perc, experience, immerse, you]\n",
       "6       INFJ  [last, thing, my, infj, friend, posted, his, f...\n",
       "...      ...                                                ...\n",
       "843509  INFP  [i, going, close, my, facebook, a, few, month,...\n",
       "843510  INFP  [30, second, mar, -, all, my, collection, seem...\n",
       "843511  INFP  [i, have, seen, ,, i, agree, i, did, actually,...\n",
       "843512  INFP  [ok, so, i, have, just, watched, underworld, 4...\n",
       "843513  INFP  [i, would, never, want, turn, off, my, emotion...\n",
       "\n",
       "[822192 rows x 2 columns]"
      ]
     },
     "execution_count": 55,
     "metadata": {},
     "output_type": "execute_result"
    }
   ],
   "source": [
    "STOP_words = ['ha', 'is', 'to', 'with', 'of', 'for', 'this', 'it', 'on', 'and', 'that','an','are','the','wa']\n",
    "def removing_stop_words(text):\n",
    "    # removed_stop_words = []\n",
    "    # for word in text:\n",
    "    #     if word not in STOP_words:\n",
    "    #         removed_stop_words.append(word)\n",
    "    word = [word for word in text if word not in STOP_words]\n",
    "    return word\n",
    "\n",
    "\n",
    "lemmatized_mbti_df['Post'] = lemmatized_mbti_df['Post'].apply(removing_stop_words)\n",
    "lemmatized_mbti_df"
   ]
  },
  {
   "cell_type": "code",
   "execution_count": 60,
   "metadata": {},
   "outputs": [
    {
     "data": {
      "text/html": [
       "<div>\n",
       "<style scoped>\n",
       "    .dataframe tbody tr th:only-of-type {\n",
       "        vertical-align: middle;\n",
       "    }\n",
       "\n",
       "    .dataframe tbody tr th {\n",
       "        vertical-align: top;\n",
       "    }\n",
       "\n",
       "    .dataframe thead th {\n",
       "        text-align: right;\n",
       "    }\n",
       "</style>\n",
       "<table border=\"1\" class=\"dataframe\">\n",
       "  <thead>\n",
       "    <tr style=\"text-align: right;\">\n",
       "      <th></th>\n",
       "      <th>Type</th>\n",
       "      <th>Post</th>\n",
       "    </tr>\n",
       "  </thead>\n",
       "  <tbody>\n",
       "    <tr>\n",
       "      <th>0</th>\n",
       "      <td>INFJ</td>\n",
       "      <td>[enfp, intj, moment, sportscenter, not, top, t...</td>\n",
       "    </tr>\n",
       "    <tr>\n",
       "      <th>1</th>\n",
       "      <td>INFJ</td>\n",
       "      <td>[what, been, most, life-changing, experience, ...</td>\n",
       "    </tr>\n",
       "    <tr>\n",
       "      <th>2</th>\n",
       "      <td>INFJ</td>\n",
       "      <td>[may, perc, experience, immerse, you]</td>\n",
       "    </tr>\n",
       "    <tr>\n",
       "      <th>3</th>\n",
       "      <td>INFJ</td>\n",
       "      <td>[last, thing, my, infj, friend, posted, his, f...</td>\n",
       "    </tr>\n",
       "    <tr>\n",
       "      <th>4</th>\n",
       "      <td>INFJ</td>\n",
       "      <td>[hello, enfj7, sorry, hear, your, distress, s,...</td>\n",
       "    </tr>\n",
       "    <tr>\n",
       "      <th>...</th>\n",
       "      <td>...</td>\n",
       "      <td>...</td>\n",
       "    </tr>\n",
       "    <tr>\n",
       "      <th>769591</th>\n",
       "      <td>INFP</td>\n",
       "      <td>[i, going, close, my, facebook, a, few, month,...</td>\n",
       "    </tr>\n",
       "    <tr>\n",
       "      <th>769592</th>\n",
       "      <td>INFP</td>\n",
       "      <td>[30, second, mar, -, all, my, collection, seem...</td>\n",
       "    </tr>\n",
       "    <tr>\n",
       "      <th>769593</th>\n",
       "      <td>INFP</td>\n",
       "      <td>[i, have, seen, ,, i, agree, i, did, actually,...</td>\n",
       "    </tr>\n",
       "    <tr>\n",
       "      <th>769594</th>\n",
       "      <td>INFP</td>\n",
       "      <td>[ok, so, i, have, just, watched, underworld, 4...</td>\n",
       "    </tr>\n",
       "    <tr>\n",
       "      <th>769595</th>\n",
       "      <td>INFP</td>\n",
       "      <td>[i, would, never, want, turn, off, my, emotion...</td>\n",
       "    </tr>\n",
       "  </tbody>\n",
       "</table>\n",
       "<p>769596 rows × 2 columns</p>\n",
       "</div>"
      ],
      "text/plain": [
       "        Type                                               Post\n",
       "0       INFJ  [enfp, intj, moment, sportscenter, not, top, t...\n",
       "1       INFJ  [what, been, most, life-changing, experience, ...\n",
       "2       INFJ              [may, perc, experience, immerse, you]\n",
       "3       INFJ  [last, thing, my, infj, friend, posted, his, f...\n",
       "4       INFJ  [hello, enfj7, sorry, hear, your, distress, s,...\n",
       "...      ...                                                ...\n",
       "769591  INFP  [i, going, close, my, facebook, a, few, month,...\n",
       "769592  INFP  [30, second, mar, -, all, my, collection, seem...\n",
       "769593  INFP  [i, have, seen, ,, i, agree, i, did, actually,...\n",
       "769594  INFP  [ok, so, i, have, just, watched, underworld, 4...\n",
       "769595  INFP  [i, would, never, want, turn, off, my, emotion...\n",
       "\n",
       "[769596 rows x 2 columns]"
      ]
     },
     "execution_count": 60,
     "metadata": {},
     "output_type": "execute_result"
    }
   ],
   "source": [
    "def filter_short_posts(post_words):\n",
    "    if len(post_words) >=5:\n",
    "        return post_words\n",
    "\n",
    "lemmatized_mbti_df['Post'] = lemmatized_mbti_df['Post'].apply(filter_short_posts)\n",
    "\n",
    "\n",
    "lemmatized_mbti_df"
   ]
  },
  {
   "cell_type": "code",
   "execution_count": 61,
   "metadata": {},
   "outputs": [
    {
     "data": {
      "text/html": [
       "<div>\n",
       "<style scoped>\n",
       "    .dataframe tbody tr th:only-of-type {\n",
       "        vertical-align: middle;\n",
       "    }\n",
       "\n",
       "    .dataframe tbody tr th {\n",
       "        vertical-align: top;\n",
       "    }\n",
       "\n",
       "    .dataframe thead th {\n",
       "        text-align: right;\n",
       "    }\n",
       "</style>\n",
       "<table border=\"1\" class=\"dataframe\">\n",
       "  <thead>\n",
       "    <tr style=\"text-align: right;\">\n",
       "      <th></th>\n",
       "      <th>Type</th>\n",
       "      <th>Post</th>\n",
       "    </tr>\n",
       "  </thead>\n",
       "  <tbody>\n",
       "    <tr>\n",
       "      <th>0</th>\n",
       "      <td>INFJ</td>\n",
       "      <td>[enfp, intj, moment, sportscenter, not, top, t...</td>\n",
       "    </tr>\n",
       "    <tr>\n",
       "      <th>1</th>\n",
       "      <td>INFJ</td>\n",
       "      <td>[what, been, most, life-changing, experience, ...</td>\n",
       "    </tr>\n",
       "    <tr>\n",
       "      <th>2</th>\n",
       "      <td>INFJ</td>\n",
       "      <td>[may, perc, experience, immerse, you]</td>\n",
       "    </tr>\n",
       "    <tr>\n",
       "      <th>3</th>\n",
       "      <td>INFJ</td>\n",
       "      <td>[last, thing, my, infj, friend, posted, his, f...</td>\n",
       "    </tr>\n",
       "    <tr>\n",
       "      <th>4</th>\n",
       "      <td>INFJ</td>\n",
       "      <td>[hello, enfj7, sorry, hear, your, distress, s,...</td>\n",
       "    </tr>\n",
       "    <tr>\n",
       "      <th>...</th>\n",
       "      <td>...</td>\n",
       "      <td>...</td>\n",
       "    </tr>\n",
       "    <tr>\n",
       "      <th>769591</th>\n",
       "      <td>INFP</td>\n",
       "      <td>[i, going, close, my, facebook, a, few, month,...</td>\n",
       "    </tr>\n",
       "    <tr>\n",
       "      <th>769592</th>\n",
       "      <td>INFP</td>\n",
       "      <td>[30, second, mar, -, all, my, collection, seem...</td>\n",
       "    </tr>\n",
       "    <tr>\n",
       "      <th>769593</th>\n",
       "      <td>INFP</td>\n",
       "      <td>[i, have, seen, ,, i, agree, i, did, actually,...</td>\n",
       "    </tr>\n",
       "    <tr>\n",
       "      <th>769594</th>\n",
       "      <td>INFP</td>\n",
       "      <td>[ok, so, i, have, just, watched, underworld, 4...</td>\n",
       "    </tr>\n",
       "    <tr>\n",
       "      <th>769595</th>\n",
       "      <td>INFP</td>\n",
       "      <td>[i, would, never, want, turn, off, my, emotion...</td>\n",
       "    </tr>\n",
       "  </tbody>\n",
       "</table>\n",
       "<p>769596 rows × 2 columns</p>\n",
       "</div>"
      ],
      "text/plain": [
       "        Type                                               Post\n",
       "0       INFJ  [enfp, intj, moment, sportscenter, not, top, t...\n",
       "1       INFJ  [what, been, most, life-changing, experience, ...\n",
       "2       INFJ              [may, perc, experience, immerse, you]\n",
       "3       INFJ  [last, thing, my, infj, friend, posted, his, f...\n",
       "4       INFJ  [hello, enfj7, sorry, hear, your, distress, s,...\n",
       "...      ...                                                ...\n",
       "769591  INFP  [i, going, close, my, facebook, a, few, month,...\n",
       "769592  INFP  [30, second, mar, -, all, my, collection, seem...\n",
       "769593  INFP  [i, have, seen, ,, i, agree, i, did, actually,...\n",
       "769594  INFP  [ok, so, i, have, just, watched, underworld, 4...\n",
       "769595  INFP  [i, would, never, want, turn, off, my, emotion...\n",
       "\n",
       "[769596 rows x 2 columns]"
      ]
     },
     "execution_count": 61,
     "metadata": {},
     "output_type": "execute_result"
    }
   ],
   "source": [
    "# Drop rows where 'Post' is None\n",
    "lemmatized_mbti_df = lemmatized_mbti_df.dropna(subset=['Post'])\n",
    "\n",
    "# Reset the index after dropping rows\n",
    "lemmatized_mbti_df = lemmatized_mbti_df.reset_index(drop=True)\n",
    "\n",
    "lemmatized_mbti_df"
   ]
  },
  {
   "cell_type": "code",
   "execution_count": 62,
   "metadata": {},
   "outputs": [
    {
     "data": {
      "text/plain": [
       "(769596, 2)"
      ]
     },
     "execution_count": 62,
     "metadata": {},
     "output_type": "execute_result"
    }
   ],
   "source": [
    "lemmatized_mbti_df.shape"
   ]
  },
  {
   "cell_type": "markdown",
   "metadata": {},
   "source": [
    "Note: Not sure how to use this dataset yet, so there might be more steps of cleaning and preprocessing to be applied in the future."
   ]
  }
 ],
 "metadata": {
  "kernelspec": {
   "display_name": "base",
   "language": "python",
   "name": "python3"
  },
  "language_info": {
   "codemirror_mode": {
    "name": "ipython",
    "version": 3
   },
   "file_extension": ".py",
   "mimetype": "text/x-python",
   "name": "python",
   "nbconvert_exporter": "python",
   "pygments_lexer": "ipython3",
   "version": "3.10.9"
  }
 },
 "nbformat": 4,
 "nbformat_minor": 2
}
