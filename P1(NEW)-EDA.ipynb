{
 "cells": [
  {
   "cell_type": "code",
   "execution_count": 29,
   "metadata": {},
   "outputs": [],
   "source": [
    "import numpy as np\n",
    "import pandas as pd\n",
    "import matplotlib.pyplot as plt\n",
    "import seaborn as sns\n",
    "import csv\n",
    "import re\n",
    "import nltk\n",
    "from nltk import sent_tokenize\n",
    "from nltk import word_tokenize"
   ]
  },
  {
   "cell_type": "markdown",
   "metadata": {},
   "source": [
    "Data link: https://www.kaggle.com/datasets/datasnaek/mbti-type/data"
   ]
  },
  {
   "cell_type": "markdown",
   "metadata": {},
   "source": [
    "<font color='lightblue'> <h2>Updated Pre-Processing</h2> </font>"
   ]
  },
  {
   "cell_type": "code",
   "execution_count": 30,
   "metadata": {},
   "outputs": [],
   "source": [
    "pd.set_option('display.max_colwidth',1000)"
   ]
  },
  {
   "cell_type": "code",
   "execution_count": 31,
   "metadata": {},
   "outputs": [
    {
     "data": {
      "text/html": [
       "<div>\n",
       "<style scoped>\n",
       "    .dataframe tbody tr th:only-of-type {\n",
       "        vertical-align: middle;\n",
       "    }\n",
       "\n",
       "    .dataframe tbody tr th {\n",
       "        vertical-align: top;\n",
       "    }\n",
       "\n",
       "    .dataframe thead th {\n",
       "        text-align: right;\n",
       "    }\n",
       "</style>\n",
       "<table border=\"1\" class=\"dataframe\">\n",
       "  <thead>\n",
       "    <tr style=\"text-align: right;\">\n",
       "      <th></th>\n",
       "      <th>Type</th>\n",
       "      <th>Posts</th>\n",
       "    </tr>\n",
       "  </thead>\n",
       "  <tbody>\n",
       "    <tr>\n",
       "      <th>0</th>\n",
       "      <td>INFJ</td>\n",
       "      <td>'http://www.youtube.com/watch?v=qsXHcwe3krw|||http://41.media.tumblr.com/tumblr_lfouy03PMA1qa1rooo1_500.jpg|||enfp and intj moments  https://www.youtube.com/watch?v=iz7lE1g4XM4  sportscenter not top ten plays  https://www.youtube.com/watch?v=uCdfze1etec  pranks|||What has been the most life-changing experience in your life?|||http://www.youtube.com/watch?v=vXZeYwwRDw8   http://www.youtube.com/watch?v=u8ejam5DP3E  On repeat for most of today.|||May the PerC Experience immerse you.|||The last thing my INFJ friend posted on his facebook before committing suicide the next day. Rest in peace~   http://vimeo.com/22842206|||Hello ENFJ7. Sorry to hear of your distress. It's only natural for a relationship to not be perfection all the time in every moment of existence. Try to figure the hard times as times of growth, as...|||84389  84390  http://wallpaperpassion.com/upload/23700/friendship-boy-and-girl-wallpaper.jpg  http://assets.dornob.com/wp-content/uploads/2010/04/round-home-design.jpg ...</td>\n",
       "    </tr>\n",
       "    <tr>\n",
       "      <th>1</th>\n",
       "      <td>ENTP</td>\n",
       "      <td>'I'm finding the lack of me in these posts very alarming.|||Sex can be boring if it's in the same position often. For example me and my girlfriend are currently in an environment where we have to creatively use cowgirl and missionary. There isn't enough...|||Giving new meaning to 'Game' theory.|||Hello *ENTP Grin*  That's all it takes. Than we converse and they do most of the flirting while I acknowledge their presence and return their words with smooth wordplay and more cheeky grins.|||This + Lack of Balance and Hand Eye Coordination.|||Real IQ test I score 127. Internet IQ tests are funny. I score 140s or higher.  Now, like the former responses of this thread I will mention that I don't believe in the IQ test. Before you banish...|||You know you're an ENTP when you vanish from a site for a year and a half, return, and find people are still commenting on your posts and liking your ideas/thoughts. You know you're an ENTP when you...|||http://img188.imageshack.us/img188/6422/6020d1f...</td>\n",
       "    </tr>\n",
       "    <tr>\n",
       "      <th>2</th>\n",
       "      <td>INTP</td>\n",
       "      <td>'Good one  _____   https://www.youtube.com/watch?v=fHiGbolFFGw|||Of course, to which I say I know; that's my blessing and my curse.|||Does being absolutely positive that you and your best friend could be an amazing couple count? If so, than yes.   Or it's more I could be madly in love in case I reconciled my feelings (which at...|||No, I didn't; thank you for a link!|||So-called Ti-Si loop (and it can stem from any current topic/obsession) can be deadly. It's like when you're stuck in your own thoughts, and your mind just wanders in circles. Feels truly terrible. ...|||Have you noticed how peculiar vegetation can be? All you have to do is look down at the grass: dozens of different plant species there.    And now imagine that hundreds of years later (when/if soil...|||The Smiths – Never Had No One Ever|||I often find myself spotting faces on marble tiles/wood.|||This 5 year-old sentence is an incredibly accurate and beautiful description.|||I haven't visited this website in the las...</td>\n",
       "    </tr>\n",
       "    <tr>\n",
       "      <th>3</th>\n",
       "      <td>INTJ</td>\n",
       "      <td>'Dear INTP,   I enjoyed our conversation the other day.  Esoteric gabbing about the nature of the universe and the idea that every rule and social code being arbitrary constructs created...|||Dear ENTJ sub,   Long time no see.  Sincerely, Alpha|||None of them. All other types hurt in deep existential ways that I want no part of.|||Probably a sliding scale that depends on individual preferences, like everything in humanity.|||Draco Malfoy also. I'd say he's either 358 or 368.|||I'm either 358 or 385, though in which stacking to me is a somewhat arbitrary distinction to make as I believe that the core indicates primary motivation and has a hand in every action. Therefore, a...|||I'm not particularly introverted or extraverted, personally. That said, I would say I'm somewhat unphased by either social interactions or being alone. What I'd say I crave more so than anything is...|||Dear Type 9 INFP,  Your absolute admiration of me is refreshing. You're a great girlfriend and I wish we bo...</td>\n",
       "    </tr>\n",
       "    <tr>\n",
       "      <th>4</th>\n",
       "      <td>ENTJ</td>\n",
       "      <td>'You're fired.|||That's another silly misconception. That approaching is logically is going to be the key to unlocking whatever it is you think you are entitled to.   Nobody wants to be approached with BS...|||But guys... he REALLY wants to go on a super-duper-long-ass vacation. C'mon guys. His boss just doesn't listen or get it. He even approached him logically and everything.|||Never mind. Just go on permanent vacation.|||Two months? I wouldn't be crazy about the idea. If you are really his best employee, then that's what may be cooking him. Who wants their most reliable asset gone for that long?  ENTJ employer...|||Lol. Its not like our views were unsolicited. What a victim.|||Sometimes I just really like impoverished rap music.   https://www.youtube.com/watch?v=Xh0vA6_8mv8|||I probably would have lost it too. His stonewalling was insignificant. He was being an idiot over semantics that didn't have any impact on anything. It's one thing to stone wall on critical shit, but...|||I...</td>\n",
       "    </tr>\n",
       "  </tbody>\n",
       "</table>\n",
       "</div>"
      ],
      "text/plain": [
       "   Type  \\\n",
       "0  INFJ   \n",
       "1  ENTP   \n",
       "2  INTP   \n",
       "3  INTJ   \n",
       "4  ENTJ   \n",
       "\n",
       "                                                                                                                                                                                                                                                                                                                                                                                                                                                                                                                                                                                                                                                                                                                                                                                                                                                                                                                                                                                                                                     Posts  \n",
       "0  'http://www.youtube.com/watch?v=qsXHcwe3krw|||http://41.media.tumblr.com/tumblr_lfouy03PMA1qa1rooo1_500.jpg|||enfp and intj moments  https://www.youtube.com/watch?v=iz7lE1g4XM4  sportscenter not top ten plays  https://www.youtube.com/watch?v=uCdfze1etec  pranks|||What has been the most life-changing experience in your life?|||http://www.youtube.com/watch?v=vXZeYwwRDw8   http://www.youtube.com/watch?v=u8ejam5DP3E  On repeat for most of today.|||May the PerC Experience immerse you.|||The last thing my INFJ friend posted on his facebook before committing suicide the next day. Rest in peace~   http://vimeo.com/22842206|||Hello ENFJ7. Sorry to hear of your distress. It's only natural for a relationship to not be perfection all the time in every moment of existence. Try to figure the hard times as times of growth, as...|||84389  84390  http://wallpaperpassion.com/upload/23700/friendship-boy-and-girl-wallpaper.jpg  http://assets.dornob.com/wp-content/uploads/2010/04/round-home-design.jpg ...  \n",
       "1  'I'm finding the lack of me in these posts very alarming.|||Sex can be boring if it's in the same position often. For example me and my girlfriend are currently in an environment where we have to creatively use cowgirl and missionary. There isn't enough...|||Giving new meaning to 'Game' theory.|||Hello *ENTP Grin*  That's all it takes. Than we converse and they do most of the flirting while I acknowledge their presence and return their words with smooth wordplay and more cheeky grins.|||This + Lack of Balance and Hand Eye Coordination.|||Real IQ test I score 127. Internet IQ tests are funny. I score 140s or higher.  Now, like the former responses of this thread I will mention that I don't believe in the IQ test. Before you banish...|||You know you're an ENTP when you vanish from a site for a year and a half, return, and find people are still commenting on your posts and liking your ideas/thoughts. You know you're an ENTP when you...|||http://img188.imageshack.us/img188/6422/6020d1f...  \n",
       "2  'Good one  _____   https://www.youtube.com/watch?v=fHiGbolFFGw|||Of course, to which I say I know; that's my blessing and my curse.|||Does being absolutely positive that you and your best friend could be an amazing couple count? If so, than yes.   Or it's more I could be madly in love in case I reconciled my feelings (which at...|||No, I didn't; thank you for a link!|||So-called Ti-Si loop (and it can stem from any current topic/obsession) can be deadly. It's like when you're stuck in your own thoughts, and your mind just wanders in circles. Feels truly terrible. ...|||Have you noticed how peculiar vegetation can be? All you have to do is look down at the grass: dozens of different plant species there.    And now imagine that hundreds of years later (when/if soil...|||The Smiths – Never Had No One Ever|||I often find myself spotting faces on marble tiles/wood.|||This 5 year-old sentence is an incredibly accurate and beautiful description.|||I haven't visited this website in the las...  \n",
       "3  'Dear INTP,   I enjoyed our conversation the other day.  Esoteric gabbing about the nature of the universe and the idea that every rule and social code being arbitrary constructs created...|||Dear ENTJ sub,   Long time no see.  Sincerely, Alpha|||None of them. All other types hurt in deep existential ways that I want no part of.|||Probably a sliding scale that depends on individual preferences, like everything in humanity.|||Draco Malfoy also. I'd say he's either 358 or 368.|||I'm either 358 or 385, though in which stacking to me is a somewhat arbitrary distinction to make as I believe that the core indicates primary motivation and has a hand in every action. Therefore, a...|||I'm not particularly introverted or extraverted, personally. That said, I would say I'm somewhat unphased by either social interactions or being alone. What I'd say I crave more so than anything is...|||Dear Type 9 INFP,  Your absolute admiration of me is refreshing. You're a great girlfriend and I wish we bo...  \n",
       "4  'You're fired.|||That's another silly misconception. That approaching is logically is going to be the key to unlocking whatever it is you think you are entitled to.   Nobody wants to be approached with BS...|||But guys... he REALLY wants to go on a super-duper-long-ass vacation. C'mon guys. His boss just doesn't listen or get it. He even approached him logically and everything.|||Never mind. Just go on permanent vacation.|||Two months? I wouldn't be crazy about the idea. If you are really his best employee, then that's what may be cooking him. Who wants their most reliable asset gone for that long?  ENTJ employer...|||Lol. Its not like our views were unsolicited. What a victim.|||Sometimes I just really like impoverished rap music.   https://www.youtube.com/watch?v=Xh0vA6_8mv8|||I probably would have lost it too. His stonewalling was insignificant. He was being an idiot over semantics that didn't have any impact on anything. It's one thing to stone wall on critical shit, but...|||I...  "
      ]
     },
     "execution_count": 31,
     "metadata": {},
     "output_type": "execute_result"
    }
   ],
   "source": [
    "# read data from file to a pandas dataframe\n",
    "mbti_df = pd.read_csv('./mbti_data.csv', header = None, names = ['Type', 'Posts'])\n",
    "mbti_df.head()\n"
   ]
  },
  {
   "cell_type": "code",
   "execution_count": 32,
   "metadata": {},
   "outputs": [
    {
     "data": {
      "text/plain": [
       "INFP    1832\n",
       "INFJ    1470\n",
       "INTP    1304\n",
       "INTJ    1091\n",
       "ENTP     685\n",
       "ENFP     675\n",
       "ISTP     337\n",
       "ISFP     271\n",
       "ENTJ     231\n",
       "ISTJ     205\n",
       "ENFJ     190\n",
       "ISFJ     166\n",
       "ESTP      89\n",
       "ESFP      48\n",
       "ESFJ      42\n",
       "ESTJ      39\n",
       "Name: Type, dtype: int64"
      ]
     },
     "execution_count": 32,
     "metadata": {},
     "output_type": "execute_result"
    }
   ],
   "source": [
    "mbti_df['Type'].value_counts()"
   ]
  },
  {
   "cell_type": "code",
   "execution_count": 33,
   "metadata": {},
   "outputs": [
    {
     "data": {
      "text/plain": [
       "[<matplotlib.lines.Line2D at 0x2d03811e0>]"
      ]
     },
     "execution_count": 33,
     "metadata": {},
     "output_type": "execute_result"
    },
    {
     "data": {
      "image/png": "[encoded data removed]",
      "text/plain": [
       "<Figure size 640x480 with 1 Axes>"
      ]
     },
     "metadata": {},
     "output_type": "display_data"
    }
   ],
   "source": [
    "plt.plot(mbti_df['Type'].value_counts().values)"
   ]
  },
  {
   "cell_type": "code",
   "execution_count": 34,
   "metadata": {},
   "outputs": [
    {
     "data": {
      "text/plain": [
       "0       'http://www.youtube.com/watch?v=qsXHcwe3krw|||http://41.media.tumblr.com/tumblr_lfouy03PMA1qa1rooo1_500.jpg|||enfp and intj moments  https://www.youtube.com/watch?v=iz7lE1g4XM4  sportscenter not top ten plays  https://www.youtube.com/watch?v=uCdfze1etec  pranks|||What has been the most life-changing experience in your life?|||http://www.youtube.com/watch?v=vXZeYwwRDw8   http://www.youtube.com/watch?v=u8ejam5DP3E  On repeat for most of today.|||May the PerC Experience immerse you.|||The last thing my INFJ friend posted on his facebook before committing suicide the next day. Rest in peace~   http://vimeo.com/22842206|||Hello ENFJ7. Sorry to hear of your distress. It's only natural for a relationship to not be perfection all the time in every moment of existence. Try to figure the hard times as times of growth, as...|||84389  84390  http://wallpaperpassion.com/upload/23700/friendship-boy-and-girl-wallpaper.jpg  http://assets.dornob.com/wp-content/uploads/2010/04/round-home-design.jpg ...\n",
       "1       'I'm finding the lack of me in these posts very alarming.|||Sex can be boring if it's in the same position often. For example me and my girlfriend are currently in an environment where we have to creatively use cowgirl and missionary. There isn't enough...|||Giving new meaning to 'Game' theory.|||Hello *ENTP Grin*  That's all it takes. Than we converse and they do most of the flirting while I acknowledge their presence and return their words with smooth wordplay and more cheeky grins.|||This + Lack of Balance and Hand Eye Coordination.|||Real IQ test I score 127. Internet IQ tests are funny. I score 140s or higher.  Now, like the former responses of this thread I will mention that I don't believe in the IQ test. Before you banish...|||You know you're an ENTP when you vanish from a site for a year and a half, return, and find people are still commenting on your posts and liking your ideas/thoughts. You know you're an ENTP when you...|||http://img188.imageshack.us/img188/6422/6020d1f...\n",
       "2       'Good one  _____   https://www.youtube.com/watch?v=fHiGbolFFGw|||Of course, to which I say I know; that's my blessing and my curse.|||Does being absolutely positive that you and your best friend could be an amazing couple count? If so, than yes.   Or it's more I could be madly in love in case I reconciled my feelings (which at...|||No, I didn't; thank you for a link!|||So-called Ti-Si loop (and it can stem from any current topic/obsession) can be deadly. It's like when you're stuck in your own thoughts, and your mind just wanders in circles. Feels truly terrible. ...|||Have you noticed how peculiar vegetation can be? All you have to do is look down at the grass: dozens of different plant species there.    And now imagine that hundreds of years later (when/if soil...|||The Smiths – Never Had No One Ever|||I often find myself spotting faces on marble tiles/wood.|||This 5 year-old sentence is an incredibly accurate and beautiful description.|||I haven't visited this website in the las...\n",
       "3       'Dear INTP,   I enjoyed our conversation the other day.  Esoteric gabbing about the nature of the universe and the idea that every rule and social code being arbitrary constructs created...|||Dear ENTJ sub,   Long time no see.  Sincerely, Alpha|||None of them. All other types hurt in deep existential ways that I want no part of.|||Probably a sliding scale that depends on individual preferences, like everything in humanity.|||Draco Malfoy also. I'd say he's either 358 or 368.|||I'm either 358 or 385, though in which stacking to me is a somewhat arbitrary distinction to make as I believe that the core indicates primary motivation and has a hand in every action. Therefore, a...|||I'm not particularly introverted or extraverted, personally. That said, I would say I'm somewhat unphased by either social interactions or being alone. What I'd say I crave more so than anything is...|||Dear Type 9 INFP,  Your absolute admiration of me is refreshing. You're a great girlfriend and I wish we bo...\n",
       "4       'You're fired.|||That's another silly misconception. That approaching is logically is going to be the key to unlocking whatever it is you think you are entitled to.   Nobody wants to be approached with BS...|||But guys... he REALLY wants to go on a super-duper-long-ass vacation. C'mon guys. His boss just doesn't listen or get it. He even approached him logically and everything.|||Never mind. Just go on permanent vacation.|||Two months? I wouldn't be crazy about the idea. If you are really his best employee, then that's what may be cooking him. Who wants their most reliable asset gone for that long?  ENTJ employer...|||Lol. Its not like our views were unsolicited. What a victim.|||Sometimes I just really like impoverished rap music.   https://www.youtube.com/watch?v=Xh0vA6_8mv8|||I probably would have lost it too. His stonewalling was insignificant. He was being an idiot over semantics that didn't have any impact on anything. It's one thing to stone wall on critical shit, but...|||I...\n",
       "                                                                                                                                                                                                                                                                                                                                                                                                                                                                                                                         ...                                                                                                                                                                                                                                                                                                                                                                                                                                                                                                                   \n",
       "8670    'https://www.youtube.com/watch?v=t8edHB_h908|||IxFP just because I always think of cats as Fi doms for some reason.   https://www.youtube.com/watch?v=ib28iGc9go4|||Especially on websites that have become a haven for neo nazis, such as PerC.|||I'm such a nerd. I've been learning Dutch on Duolingo and I'm having so much fun :)|||Duolingo is the shit!  Oh my god I love this XD|||Right wingers do this because they lack political consciousness.|||I doubt it, but if they are real then I hope to hell that they're nothing like the Twilight vampires!|||I would agree that both are likely related to confidence levels. It makes sense to me that someone would be aggressive to overcompensate for a (sometimes perceived) shortcoming.|||Both Nazi Germany and the Soviet Union were extremely nationalist. I can't think of a more nationalist country nowadays than the DPRK.  What separates your 'nationalism' from theirs?|||You're not the only one, there are plenty of INFPs who are right wing conservativ...\n",
       "8671    'So...if this thread already exists someplace else (which it does:  http://personalitycafe.com/enfp-forum-inspirers/116902-movies-loved-enfp.html#post2952851), how the heck to I delete this one here???|||Ooops...I guess I didn't look too hard because I just started a Movies every ENFP should watch thread...|||So, this came up in the You Know You're An ENFP When... thread.  (@Pucca :  here we go!  IT IS DONE :D) This isn't a list of films with ENFPs IN them, but rather ones that you believe ENFPs would...|||I know that I liked UP. :D|||I choose feeding myself joy over beating myself up.”  --Buddy Wakefield|||[QUOTE=Pucca;2951774]I've never seen it.:shocked:QUOTE]  Me, neither.   Guess we should have a Movie Marathon of All Movies ENFPs Should Watch. :D|||That's hilarious. hahaha I used to pretend I had a bunch of dragon friends and a whole bunch of animals (like platypi and octopi and ocelots, and horses, etc.) I was always rescuing my dragons from...|||WOOO!  I'd love to be the TAR...\n",
       "8672    'So many questions when i do these things.  I would take the purple pill. Pick winning lottery numbers. Do whatever I want.|||I worked in a brewery for a couple years here. I dont know if you're familiar with the local micros/craft at all but Mill st. was the name of it. Their tankhouse is my favorite of anything local.|||I am going to summon the great and powerful mr cafebot and his song of destruction. The four horseman ride. Count your days people of earth.   Intro: Nick - the INTP male - from a basement...|||This thread is obviously about the textbook definition of manliness. Ruffin it, tuffin it, and going hard in the mother fking paint.|||Stand up for yourself. You asked for the time off and it was approved. When they say, oh shit we are short staffed, where is Badgers? They figure out you asked for it off, that's why you arn't there....|||Lol excellent thread @NT the DC. I love watching baseball, and playing it. Oh and I hate the yankees. I'm 19, I've had multiple partners, ...\n",
       "8673    'I am very conflicted right now when it comes to wanting children.  I honestly had no maternal instinct whatsoever until recently.  Up until now, none of my close friends have had children, and I...|||If I had to guess for my closest friends:  1. ISFJ 2. ESFP 3. ISTJ 4. xNFP 5. ESFJ  I don't know if this is correct or not because I don't know if *they* know their types (actually the xNFP...|||What you said in the last paragraph ... as a teacher, this frustrates me too!  There's a trend in education to combine classes more and more to contain a variety of types of students (which I won't...|||I can't say that I had much trouble with my community in general.  I mean, if I'm talking about my same-age peers, I was never considered popular because I was too into artsy extracurricular...|||I do eat meat, and I do feel guilty about it.  I have vaguely considered not eating meat, but I don't think I could actually do it because of my nutritional requirements.  I need a high protein diet......\n",
       "8674    'It has been too long since I have been on personalitycafe - although it doesn't seem to have changed one bit - but I must say it is good to be back somewhere like this. Usually I turn to Doctor Who...|||http://www.youtube.com/watch?v=6EEW-9NDM5k|||Overwhelmed by the world around me.|||In one dream I have had I was being chased by a large shadowy creature, with someone else who I felt I had to save above all else. The dream ended after she reached safety, but as for what happened...|||Well now My Avatar is a Doctor Who Clockwork Creature. I always liked this monster because It is just a worker trying to do it's job, kind of :3|||1st - Thanks for your reply, I appreciate all the help I can get. 2nd - I think everyone has the right to their opinion :) (however too many people abuse that right :P )|||Yea, Not Doing the Iron Man Thing xD  Thanks for all the advice everyone :)|||Thanks :)  I think I needed some humour. I might show them this (maybe).   I know they won't do anything hars...\n",
       "Name: Posts, Length: 8675, dtype: object"
      ]
     },
     "execution_count": 34,
     "metadata": {},
     "output_type": "execute_result"
    }
   ],
   "source": [
    "mbti_df['Posts'] = mbti_df['Posts'].astype('str')\n",
    "mbti_df['Posts']"
   ]
  },
  {
   "cell_type": "code",
   "execution_count": 35,
   "metadata": {},
   "outputs": [],
   "source": [
    "def clean_text(text):\n",
    "    pattern = r'[.,;:__@()%&$#!*^-]+'\n",
    "    text = text.lower()\n",
    "    text = re.sub(r'http\\S+', r' ', text)\n",
    "    text = re.sub(r\"'\", r' ', text)\n",
    "    text = text.replace(\"|||\",\" \")\n",
    "    text = text.replace(\"||\",\" \")\n",
    "    text = re.sub(pattern, r' ', text)\n",
    "    return text"
   ]
  },
  {
   "cell_type": "code",
   "execution_count": 36,
   "metadata": {},
   "outputs": [
    {
     "data": {
      "text/html": [
       "<div>\n",
       "<style scoped>\n",
       "    .dataframe tbody tr th:only-of-type {\n",
       "        vertical-align: middle;\n",
       "    }\n",
       "\n",
       "    .dataframe tbody tr th {\n",
       "        vertical-align: top;\n",
       "    }\n",
       "\n",
       "    .dataframe thead th {\n",
       "        text-align: right;\n",
       "    }\n",
       "</style>\n",
       "<table border=\"1\" class=\"dataframe\">\n",
       "  <thead>\n",
       "    <tr style=\"text-align: right;\">\n",
       "      <th></th>\n",
       "      <th>Type</th>\n",
       "      <th>Posts</th>\n",
       "    </tr>\n",
       "  </thead>\n",
       "  <tbody>\n",
       "    <tr>\n",
       "      <th>0</th>\n",
       "      <td>INFJ</td>\n",
       "      <td>and intj moments     sportscenter not top ten plays     pranks what has been the most life changing experience in your life?        on repeat for most of today  may the perc experience immerse you  the last thing my infj friend posted on his facebook before committing suicide the next day  rest in peace~     enfj7  sorry to hear of your distress  it s only natural for a relationship to not be perfection all the time in every moment of existence  try to figure the hard times as times of growth  as  84389  84390         welcome and stuff     game  set  match  prozac  wellbrutin  at least thirty minutes of moving your legs  and i don t mean moving them while sitting in your same desk chair  weed in moderation  maybe try edibles as a healthier alternative  basically come up with three items you ve determined that each type  or whichever types you want to do  would more than likely use  given each types  cognitive functions and whatnot  when left by  all things in moderation   sims i...</td>\n",
       "    </tr>\n",
       "    <tr>\n",
       "      <th>1</th>\n",
       "      <td>ENTP</td>\n",
       "      <td>i m finding the lack of me in these posts very alarming  sex can be boring if it s in the same position often  for example me and my girlfriend are currently in an environment where we have to creatively use cowgirl and missionary  there isn t enough  giving new meaning to  game  theory  hello  entp grin   that s all it takes  than we converse and they do most of the flirting while i acknowledge their presence and return their words with smooth wordplay and more cheeky grins  this + lack of balance and hand eye coordination  real iq test i score 127  internet iq tests are funny  i score 140s or higher   now  like the former responses of this thread i will mention that i don t believe in the iq test  before you banish  you know you re an entp when you vanish from a site for a year and a half  return  and find people are still commenting on your posts and liking your ideas/thoughts  you know you re an entp when you    over think things sometimes  i go by the old sherlock holmes quot...</td>\n",
       "    </tr>\n",
       "    <tr>\n",
       "      <th>2</th>\n",
       "      <td>INTP</td>\n",
       "      <td>good one        course  to which i say i know  that s my blessing and my curse  does being absolutely positive that you and your best friend could be an amazing couple count? if so  than yes    or it s more i could be madly in love in case i reconciled my feelings  which at  no  i didn t  thank you for a link  so called ti si loop  and it can stem from any current topic/obsession  can be deadly  it s like when you re stuck in your own thoughts  and your mind just wanders in circles  feels truly terrible    have you noticed how peculiar vegetation can be? all you have to do is look down at the grass  dozens of different plant species there     and now imagine that hundreds of years later  when/if soil  the smiths – never had no one ever i often find myself spotting faces on marble tiles/wood  this 5 year old sentence is an incredibly accurate and beautiful description  i haven t visited this website in the last 3 years  so whoever reads this  and maybe even remembers me  which i hi...</td>\n",
       "    </tr>\n",
       "    <tr>\n",
       "      <th>3</th>\n",
       "      <td>INTJ</td>\n",
       "      <td>dear intp    i enjoyed our conversation the other day   esoteric gabbing about the nature of the universe and the idea that every rule and social code being arbitrary constructs created  dear entj sub    long time no see   sincerely  alpha none of them  all other types hurt in deep existential ways that i want no part of  probably a sliding scale that depends on individual preferences  like everything in humanity  draco malfoy also  i d say he s either 358 or 368  i m either 358 or 385  though in which stacking to me is a somewhat arbitrary distinction to make as i believe that the core indicates primary motivation and has a hand in every action  therefore  a  i m not particularly introverted or extraverted  personally  that said  i would say i m somewhat unphased by either social interactions or being alone  what i d say i crave more so than anything is  dear type 9 infp   your absolute admiration of me is refreshing  you re a great girlfriend and i wish we both didn t have such ...</td>\n",
       "    </tr>\n",
       "    <tr>\n",
       "      <th>4</th>\n",
       "      <td>ENTJ</td>\n",
       "      <td>you re fired  that s another silly misconception  that approaching is logically is going to be the key to unlocking whatever it is you think you are entitled to    nobody wants to be approached with bs  but guys  he really wants to go on a super duper long ass vacation  c mon guys  his boss just doesn t listen or get it  he even approached him logically and everything  never mind  just go on permanent vacation  two months? i wouldn t be crazy about the idea  if you are really his best employee  then that s what may be cooking him  who wants their most reliable asset gone for that long?  entj employer  lol  its not like our views were unsolicited  what a victim  sometimes i just really like impoverished rap music      probably would have lost it too  his stonewalling was insignificant  he was being an idiot over semantics that didn t have any impact on anything  it s one thing to stone wall on critical shit  but  i would have just taken the project and gave them something later  th...</td>\n",
       "    </tr>\n",
       "    <tr>\n",
       "      <th>...</th>\n",
       "      <td>...</td>\n",
       "      <td>...</td>\n",
       "    </tr>\n",
       "    <tr>\n",
       "      <th>8670</th>\n",
       "      <td>ISFP</td>\n",
       "      <td>just because i always think of cats as fi doms for some reason      on websites that have become a haven for neo nazis  such as perc  i m such a nerd  i ve been learning dutch on duolingo and i m having so much fun   duolingo is the shit   oh my god i love this xd right wingers do this because they lack political consciousness  i doubt it  but if they are real then i hope to hell that they re nothing like the twilight vampires  i would agree that both are likely related to confidence levels  it makes sense to me that someone would be aggressive to overcompensate for a  sometimes perceived  shortcoming  both nazi germany and the soviet union were extremely nationalist  i can t think of a more nationalist country nowadays than the dprk   what separates your  nationalism  from theirs? you re not the only one  there are plenty of infps who are right wing conservatives/alt reich fascists here on perc  10am in which time zone? patrick walker has the voice of an angel      cloggies are...</td>\n",
       "    </tr>\n",
       "    <tr>\n",
       "      <th>8671</th>\n",
       "      <td>ENFP</td>\n",
       "      <td>so if this thread already exists someplace else  which it does     how the heck to i delete this one here??? ooops i guess i didn t look too hard because i just started a movies every enfp should watch thread  so  this came up in the you know you re an enfp when  thread    pucca    here we go   it is done  d  this isn t a list of films with enfps in them  but rather ones that you believe enfps would  i know that i liked up   d i choose feeding myself joy over beating myself up ”   buddy wakefield [quote=pucca 2951774]i ve never seen it shocked quote]  me  neither    guess we should have a movie marathon of all movies enfps should watch   d that s hilarious  hahaha i used to pretend i had a bunch of dragon friends and a whole bunch of animals  like platypi and octopi and ocelots  and horses  etc  i was always rescuing my dragons from  wooo   i d love to be the tardis   d this is from my signature  actually  just look at all the quotes in my signature   i am a forest  and a night of...</td>\n",
       "    </tr>\n",
       "    <tr>\n",
       "      <th>8672</th>\n",
       "      <td>INTP</td>\n",
       "      <td>so many questions when i do these things   i would take the purple pill  pick winning lottery numbers  do whatever i want  i worked in a brewery for a couple years here  i dont know if you re familiar with the local micros/craft at all but mill st  was the name of it  their tankhouse is my favorite of anything local  i am going to summon the great and powerful mr cafebot and his song of destruction  the four horseman ride  count your days people of earth    intro  nick   the intp male   from a basement  this thread is obviously about the textbook definition of manliness  ruffin it  tuffin it  and going hard in the mother fking paint  stand up for yourself  you asked for the time off and it was approved  when they say  oh shit we are short staffed  where is badgers? they figure out you asked for it off  that s why you arn t there  lol excellent thread  nt the dc  i love watching baseball  and playing it  oh and i hate the yankees  i m 19  i ve had multiple partners  i consider myse...</td>\n",
       "    </tr>\n",
       "    <tr>\n",
       "      <th>8673</th>\n",
       "      <td>INFP</td>\n",
       "      <td>i am very conflicted right now when it comes to wanting children   i honestly had no maternal instinct whatsoever until recently   up until now  none of my close friends have had children  and i  if i had to guess for my closest friends   1  isfj 2  esfp 3  istj 4  xnfp 5  esfj  i don t know if this is correct or not because i don t know if  they  know their types  actually the xnfp  what you said in the last paragraph   as a teacher  this frustrates me too   there s a trend in education to combine classes more and more to contain a variety of types of students  which i won t  i can t say that i had much trouble with my community in general   i mean  if i m talking about my same age peers  i was never considered popular because i was too into artsy extracurricular  i do eat meat  and i do feel guilty about it   i have vaguely considered not eating meat  but i don t think i could actually do it because of my nutritional requirements   i need a high protein diet  well i am in the sa...</td>\n",
       "    </tr>\n",
       "    <tr>\n",
       "      <th>8674</th>\n",
       "      <td>INFP</td>\n",
       "      <td>it has been too long since i have been on personalitycafe   although it doesn t seem to have changed one bit   but i must say it is good to be back somewhere like this  usually i turn to doctor who    by the world around me  in one dream i have had i was being chased by a large shadowy creature  with someone else who i felt i had to save above all else  the dream ended after she reached safety  but as for what happened  well now my avatar is a doctor who clockwork creature  i always liked this monster because it is just a worker trying to do it s job  kind of  3 1st   thanks for your reply  i appreciate all the help i can get  2nd   i think everyone has the right to their opinion    however too many people abuse that right  p   yea  not doing the iron man thing xd  thanks for all the advice everyone   thanks    i think i needed some humour  i might show them this  maybe    i know they won t do anything harsh like throw me out or beat me   although i have places to go     but i rea...</td>\n",
       "    </tr>\n",
       "  </tbody>\n",
       "</table>\n",
       "<p>8675 rows × 2 columns</p>\n",
       "</div>"
      ],
      "text/plain": [
       "      Type  \\\n",
       "0     INFJ   \n",
       "1     ENTP   \n",
       "2     INTP   \n",
       "3     INTJ   \n",
       "4     ENTJ   \n",
       "...    ...   \n",
       "8670  ISFP   \n",
       "8671  ENFP   \n",
       "8672  INTP   \n",
       "8673  INFP   \n",
       "8674  INFP   \n",
       "\n",
       "                                                                                                                                                                                                                                                                                                                                                                                                                                                                                                                                                                                                                                                                                                                                                                                                                                                                                                                                                                                                                                        Posts  \n",
       "0        and intj moments     sportscenter not top ten plays     pranks what has been the most life changing experience in your life?        on repeat for most of today  may the perc experience immerse you  the last thing my infj friend posted on his facebook before committing suicide the next day  rest in peace~     enfj7  sorry to hear of your distress  it s only natural for a relationship to not be perfection all the time in every moment of existence  try to figure the hard times as times of growth  as  84389  84390         welcome and stuff     game  set  match  prozac  wellbrutin  at least thirty minutes of moving your legs  and i don t mean moving them while sitting in your same desk chair  weed in moderation  maybe try edibles as a healthier alternative  basically come up with three items you ve determined that each type  or whichever types you want to do  would more than likely use  given each types  cognitive functions and whatnot  when left by  all things in moderation   sims i...  \n",
       "1      i m finding the lack of me in these posts very alarming  sex can be boring if it s in the same position often  for example me and my girlfriend are currently in an environment where we have to creatively use cowgirl and missionary  there isn t enough  giving new meaning to  game  theory  hello  entp grin   that s all it takes  than we converse and they do most of the flirting while i acknowledge their presence and return their words with smooth wordplay and more cheeky grins  this + lack of balance and hand eye coordination  real iq test i score 127  internet iq tests are funny  i score 140s or higher   now  like the former responses of this thread i will mention that i don t believe in the iq test  before you banish  you know you re an entp when you vanish from a site for a year and a half  return  and find people are still commenting on your posts and liking your ideas/thoughts  you know you re an entp when you    over think things sometimes  i go by the old sherlock holmes quot...  \n",
       "2      good one        course  to which i say i know  that s my blessing and my curse  does being absolutely positive that you and your best friend could be an amazing couple count? if so  than yes    or it s more i could be madly in love in case i reconciled my feelings  which at  no  i didn t  thank you for a link  so called ti si loop  and it can stem from any current topic/obsession  can be deadly  it s like when you re stuck in your own thoughts  and your mind just wanders in circles  feels truly terrible    have you noticed how peculiar vegetation can be? all you have to do is look down at the grass  dozens of different plant species there     and now imagine that hundreds of years later  when/if soil  the smiths – never had no one ever i often find myself spotting faces on marble tiles/wood  this 5 year old sentence is an incredibly accurate and beautiful description  i haven t visited this website in the last 3 years  so whoever reads this  and maybe even remembers me  which i hi...  \n",
       "3      dear intp    i enjoyed our conversation the other day   esoteric gabbing about the nature of the universe and the idea that every rule and social code being arbitrary constructs created  dear entj sub    long time no see   sincerely  alpha none of them  all other types hurt in deep existential ways that i want no part of  probably a sliding scale that depends on individual preferences  like everything in humanity  draco malfoy also  i d say he s either 358 or 368  i m either 358 or 385  though in which stacking to me is a somewhat arbitrary distinction to make as i believe that the core indicates primary motivation and has a hand in every action  therefore  a  i m not particularly introverted or extraverted  personally  that said  i would say i m somewhat unphased by either social interactions or being alone  what i d say i crave more so than anything is  dear type 9 infp   your absolute admiration of me is refreshing  you re a great girlfriend and i wish we both didn t have such ...  \n",
       "4      you re fired  that s another silly misconception  that approaching is logically is going to be the key to unlocking whatever it is you think you are entitled to    nobody wants to be approached with bs  but guys  he really wants to go on a super duper long ass vacation  c mon guys  his boss just doesn t listen or get it  he even approached him logically and everything  never mind  just go on permanent vacation  two months? i wouldn t be crazy about the idea  if you are really his best employee  then that s what may be cooking him  who wants their most reliable asset gone for that long?  entj employer  lol  its not like our views were unsolicited  what a victim  sometimes i just really like impoverished rap music      probably would have lost it too  his stonewalling was insignificant  he was being an idiot over semantics that didn t have any impact on anything  it s one thing to stone wall on critical shit  but  i would have just taken the project and gave them something later  th...  \n",
       "...                                                                                                                                                                                                                                                                                                                                                                                                                                                                                                                                                                                                                                                                                                                                                                                                                                                                                                                                                                                                                                       ...  \n",
       "8670     just because i always think of cats as fi doms for some reason      on websites that have become a haven for neo nazis  such as perc  i m such a nerd  i ve been learning dutch on duolingo and i m having so much fun   duolingo is the shit   oh my god i love this xd right wingers do this because they lack political consciousness  i doubt it  but if they are real then i hope to hell that they re nothing like the twilight vampires  i would agree that both are likely related to confidence levels  it makes sense to me that someone would be aggressive to overcompensate for a  sometimes perceived  shortcoming  both nazi germany and the soviet union were extremely nationalist  i can t think of a more nationalist country nowadays than the dprk   what separates your  nationalism  from theirs? you re not the only one  there are plenty of infps who are right wing conservatives/alt reich fascists here on perc  10am in which time zone? patrick walker has the voice of an angel      cloggies are...  \n",
       "8671   so if this thread already exists someplace else  which it does     how the heck to i delete this one here??? ooops i guess i didn t look too hard because i just started a movies every enfp should watch thread  so  this came up in the you know you re an enfp when  thread    pucca    here we go   it is done  d  this isn t a list of films with enfps in them  but rather ones that you believe enfps would  i know that i liked up   d i choose feeding myself joy over beating myself up ”   buddy wakefield [quote=pucca 2951774]i ve never seen it shocked quote]  me  neither    guess we should have a movie marathon of all movies enfps should watch   d that s hilarious  hahaha i used to pretend i had a bunch of dragon friends and a whole bunch of animals  like platypi and octopi and ocelots  and horses  etc  i was always rescuing my dragons from  wooo   i d love to be the tardis   d this is from my signature  actually  just look at all the quotes in my signature   i am a forest  and a night of...  \n",
       "8672   so many questions when i do these things   i would take the purple pill  pick winning lottery numbers  do whatever i want  i worked in a brewery for a couple years here  i dont know if you re familiar with the local micros/craft at all but mill st  was the name of it  their tankhouse is my favorite of anything local  i am going to summon the great and powerful mr cafebot and his song of destruction  the four horseman ride  count your days people of earth    intro  nick   the intp male   from a basement  this thread is obviously about the textbook definition of manliness  ruffin it  tuffin it  and going hard in the mother fking paint  stand up for yourself  you asked for the time off and it was approved  when they say  oh shit we are short staffed  where is badgers? they figure out you asked for it off  that s why you arn t there  lol excellent thread  nt the dc  i love watching baseball  and playing it  oh and i hate the yankees  i m 19  i ve had multiple partners  i consider myse...  \n",
       "8673   i am very conflicted right now when it comes to wanting children   i honestly had no maternal instinct whatsoever until recently   up until now  none of my close friends have had children  and i  if i had to guess for my closest friends   1  isfj 2  esfp 3  istj 4  xnfp 5  esfj  i don t know if this is correct or not because i don t know if  they  know their types  actually the xnfp  what you said in the last paragraph   as a teacher  this frustrates me too   there s a trend in education to combine classes more and more to contain a variety of types of students  which i won t  i can t say that i had much trouble with my community in general   i mean  if i m talking about my same age peers  i was never considered popular because i was too into artsy extracurricular  i do eat meat  and i do feel guilty about it   i have vaguely considered not eating meat  but i don t think i could actually do it because of my nutritional requirements   i need a high protein diet  well i am in the sa...  \n",
       "8674   it has been too long since i have been on personalitycafe   although it doesn t seem to have changed one bit   but i must say it is good to be back somewhere like this  usually i turn to doctor who    by the world around me  in one dream i have had i was being chased by a large shadowy creature  with someone else who i felt i had to save above all else  the dream ended after she reached safety  but as for what happened  well now my avatar is a doctor who clockwork creature  i always liked this monster because it is just a worker trying to do it s job  kind of  3 1st   thanks for your reply  i appreciate all the help i can get  2nd   i think everyone has the right to their opinion    however too many people abuse that right  p   yea  not doing the iron man thing xd  thanks for all the advice everyone   thanks    i think i needed some humour  i might show them this  maybe    i know they won t do anything harsh like throw me out or beat me   although i have places to go     but i rea...  \n",
       "\n",
       "[8675 rows x 2 columns]"
      ]
     },
     "execution_count": 36,
     "metadata": {},
     "output_type": "execute_result"
    }
   ],
   "source": [
    "mbti_df['Posts'] = mbti_df['Posts'].apply(clean_text)\n",
    "mbti_df"
   ]
  },
  {
   "cell_type": "code",
   "execution_count": 37,
   "metadata": {},
   "outputs": [
    {
     "data": {
      "text/plain": [
       "(8675, 2)"
      ]
     },
     "execution_count": 37,
     "metadata": {},
     "output_type": "execute_result"
    }
   ],
   "source": [
    "mbti_df.shape"
   ]
  },
  {
   "cell_type": "code",
   "execution_count": 38,
   "metadata": {},
   "outputs": [
    {
     "data": {
      "text/html": [
       "<div>\n",
       "<style scoped>\n",
       "    .dataframe tbody tr th:only-of-type {\n",
       "        vertical-align: middle;\n",
       "    }\n",
       "\n",
       "    .dataframe tbody tr th {\n",
       "        vertical-align: top;\n",
       "    }\n",
       "\n",
       "    .dataframe thead th {\n",
       "        text-align: right;\n",
       "    }\n",
       "</style>\n",
       "<table border=\"1\" class=\"dataframe\">\n",
       "  <thead>\n",
       "    <tr style=\"text-align: right;\">\n",
       "      <th></th>\n",
       "      <th>Type</th>\n",
       "      <th>Posts</th>\n",
       "    </tr>\n",
       "  </thead>\n",
       "  <tbody>\n",
       "    <tr>\n",
       "      <th>0</th>\n",
       "      <td>INFJ</td>\n",
       "      <td>and intj moments     sportscenter not top ten plays     pranks what has been the most life changing experience in your life?        on repeat for most of today  may the perc experience immerse you  the last thing my infj friend posted on his facebook before committing suicide the next day  rest in peace~     enfj7  sorry to hear of your distress  it s only natural for a relationship to not be perfection all the time in every moment of existence  try to figure the hard times as times of growth  as  84389  84390         welcome and stuff     game  set  match  prozac  wellbrutin  at least thirty minutes of moving your legs  and i don t mean moving them while sitting in your same desk chair  weed in moderation  maybe try edibles as a healthier alternative  basically come up with three items you ve determined that each type  or whichever types you want to do  would more than likely use  given each types  cognitive functions and whatnot  when left by  all things in moderation   sims i...</td>\n",
       "    </tr>\n",
       "    <tr>\n",
       "      <th>1</th>\n",
       "      <td>ENTP</td>\n",
       "      <td>i m finding the lack of me in these posts very alarming  sex can be boring if it s in the same position often  for example me and my girlfriend are currently in an environment where we have to creatively use cowgirl and missionary  there isn t enough  giving new meaning to  game  theory  hello  entp grin   that s all it takes  than we converse and they do most of the flirting while i acknowledge their presence and return their words with smooth wordplay and more cheeky grins  this + lack of balance and hand eye coordination  real iq test i score 127  internet iq tests are funny  i score 140s or higher   now  like the former responses of this thread i will mention that i don t believe in the iq test  before you banish  you know you re an entp when you vanish from a site for a year and a half  return  and find people are still commenting on your posts and liking your ideas/thoughts  you know you re an entp when you    over think things sometimes  i go by the old sherlock holmes quot...</td>\n",
       "    </tr>\n",
       "    <tr>\n",
       "      <th>2</th>\n",
       "      <td>INTP</td>\n",
       "      <td>good one        course  to which i say i know  that s my blessing and my curse  does being absolutely positive that you and your best friend could be an amazing couple count? if so  than yes    or it s more i could be madly in love in case i reconciled my feelings  which at  no  i didn t  thank you for a link  so called ti si loop  and it can stem from any current topic/obsession  can be deadly  it s like when you re stuck in your own thoughts  and your mind just wanders in circles  feels truly terrible    have you noticed how peculiar vegetation can be? all you have to do is look down at the grass  dozens of different plant species there     and now imagine that hundreds of years later  when/if soil  the smiths – never had no one ever i often find myself spotting faces on marble tiles/wood  this 5 year old sentence is an incredibly accurate and beautiful description  i haven t visited this website in the last 3 years  so whoever reads this  and maybe even remembers me  which i hi...</td>\n",
       "    </tr>\n",
       "    <tr>\n",
       "      <th>3</th>\n",
       "      <td>INTJ</td>\n",
       "      <td>dear intp    i enjoyed our conversation the other day   esoteric gabbing about the nature of the universe and the idea that every rule and social code being arbitrary constructs created  dear entj sub    long time no see   sincerely  alpha none of them  all other types hurt in deep existential ways that i want no part of  probably a sliding scale that depends on individual preferences  like everything in humanity  draco malfoy also  i d say he s either 358 or 368  i m either 358 or 385  though in which stacking to me is a somewhat arbitrary distinction to make as i believe that the core indicates primary motivation and has a hand in every action  therefore  a  i m not particularly introverted or extraverted  personally  that said  i would say i m somewhat unphased by either social interactions or being alone  what i d say i crave more so than anything is  dear type 9 infp   your absolute admiration of me is refreshing  you re a great girlfriend and i wish we both didn t have such ...</td>\n",
       "    </tr>\n",
       "    <tr>\n",
       "      <th>4</th>\n",
       "      <td>ENTJ</td>\n",
       "      <td>you re fired  that s another silly misconception  that approaching is logically is going to be the key to unlocking whatever it is you think you are entitled to    nobody wants to be approached with bs  but guys  he really wants to go on a super duper long ass vacation  c mon guys  his boss just doesn t listen or get it  he even approached him logically and everything  never mind  just go on permanent vacation  two months? i wouldn t be crazy about the idea  if you are really his best employee  then that s what may be cooking him  who wants their most reliable asset gone for that long?  entj employer  lol  its not like our views were unsolicited  what a victim  sometimes i just really like impoverished rap music      probably would have lost it too  his stonewalling was insignificant  he was being an idiot over semantics that didn t have any impact on anything  it s one thing to stone wall on critical shit  but  i would have just taken the project and gave them something later  th...</td>\n",
       "    </tr>\n",
       "    <tr>\n",
       "      <th>...</th>\n",
       "      <td>...</td>\n",
       "      <td>...</td>\n",
       "    </tr>\n",
       "    <tr>\n",
       "      <th>8670</th>\n",
       "      <td>ISFP</td>\n",
       "      <td>just because i always think of cats as fi doms for some reason      on websites that have become a haven for neo nazis  such as perc  i m such a nerd  i ve been learning dutch on duolingo and i m having so much fun   duolingo is the shit   oh my god i love this xd right wingers do this because they lack political consciousness  i doubt it  but if they are real then i hope to hell that they re nothing like the twilight vampires  i would agree that both are likely related to confidence levels  it makes sense to me that someone would be aggressive to overcompensate for a  sometimes perceived  shortcoming  both nazi germany and the soviet union were extremely nationalist  i can t think of a more nationalist country nowadays than the dprk   what separates your  nationalism  from theirs? you re not the only one  there are plenty of infps who are right wing conservatives/alt reich fascists here on perc  10am in which time zone? patrick walker has the voice of an angel      cloggies are...</td>\n",
       "    </tr>\n",
       "    <tr>\n",
       "      <th>8671</th>\n",
       "      <td>ENFP</td>\n",
       "      <td>so if this thread already exists someplace else  which it does     how the heck to i delete this one here??? ooops i guess i didn t look too hard because i just started a movies every enfp should watch thread  so  this came up in the you know you re an enfp when  thread    pucca    here we go   it is done  d  this isn t a list of films with enfps in them  but rather ones that you believe enfps would  i know that i liked up   d i choose feeding myself joy over beating myself up ”   buddy wakefield [quote=pucca 2951774]i ve never seen it shocked quote]  me  neither    guess we should have a movie marathon of all movies enfps should watch   d that s hilarious  hahaha i used to pretend i had a bunch of dragon friends and a whole bunch of animals  like platypi and octopi and ocelots  and horses  etc  i was always rescuing my dragons from  wooo   i d love to be the tardis   d this is from my signature  actually  just look at all the quotes in my signature   i am a forest  and a night of...</td>\n",
       "    </tr>\n",
       "    <tr>\n",
       "      <th>8672</th>\n",
       "      <td>INTP</td>\n",
       "      <td>so many questions when i do these things   i would take the purple pill  pick winning lottery numbers  do whatever i want  i worked in a brewery for a couple years here  i dont know if you re familiar with the local micros/craft at all but mill st  was the name of it  their tankhouse is my favorite of anything local  i am going to summon the great and powerful mr cafebot and his song of destruction  the four horseman ride  count your days people of earth    intro  nick   the intp male   from a basement  this thread is obviously about the textbook definition of manliness  ruffin it  tuffin it  and going hard in the mother fking paint  stand up for yourself  you asked for the time off and it was approved  when they say  oh shit we are short staffed  where is badgers? they figure out you asked for it off  that s why you arn t there  lol excellent thread  nt the dc  i love watching baseball  and playing it  oh and i hate the yankees  i m 19  i ve had multiple partners  i consider myse...</td>\n",
       "    </tr>\n",
       "    <tr>\n",
       "      <th>8673</th>\n",
       "      <td>INFP</td>\n",
       "      <td>i am very conflicted right now when it comes to wanting children   i honestly had no maternal instinct whatsoever until recently   up until now  none of my close friends have had children  and i  if i had to guess for my closest friends   1  isfj 2  esfp 3  istj 4  xnfp 5  esfj  i don t know if this is correct or not because i don t know if  they  know their types  actually the xnfp  what you said in the last paragraph   as a teacher  this frustrates me too   there s a trend in education to combine classes more and more to contain a variety of types of students  which i won t  i can t say that i had much trouble with my community in general   i mean  if i m talking about my same age peers  i was never considered popular because i was too into artsy extracurricular  i do eat meat  and i do feel guilty about it   i have vaguely considered not eating meat  but i don t think i could actually do it because of my nutritional requirements   i need a high protein diet  well i am in the sa...</td>\n",
       "    </tr>\n",
       "    <tr>\n",
       "      <th>8674</th>\n",
       "      <td>INFP</td>\n",
       "      <td>it has been too long since i have been on personalitycafe   although it doesn t seem to have changed one bit   but i must say it is good to be back somewhere like this  usually i turn to doctor who    by the world around me  in one dream i have had i was being chased by a large shadowy creature  with someone else who i felt i had to save above all else  the dream ended after she reached safety  but as for what happened  well now my avatar is a doctor who clockwork creature  i always liked this monster because it is just a worker trying to do it s job  kind of  3 1st   thanks for your reply  i appreciate all the help i can get  2nd   i think everyone has the right to their opinion    however too many people abuse that right  p   yea  not doing the iron man thing xd  thanks for all the advice everyone   thanks    i think i needed some humour  i might show them this  maybe    i know they won t do anything harsh like throw me out or beat me   although i have places to go     but i rea...</td>\n",
       "    </tr>\n",
       "  </tbody>\n",
       "</table>\n",
       "<p>8675 rows × 2 columns</p>\n",
       "</div>"
      ],
      "text/plain": [
       "      Type  \\\n",
       "0     INFJ   \n",
       "1     ENTP   \n",
       "2     INTP   \n",
       "3     INTJ   \n",
       "4     ENTJ   \n",
       "...    ...   \n",
       "8670  ISFP   \n",
       "8671  ENFP   \n",
       "8672  INTP   \n",
       "8673  INFP   \n",
       "8674  INFP   \n",
       "\n",
       "                                                                                                                                                                                                                                                                                                                                                                                                                                                                                                                                                                                                                                                                                                                                                                                                                                                                                                                                                                                                                                        Posts  \n",
       "0        and intj moments     sportscenter not top ten plays     pranks what has been the most life changing experience in your life?        on repeat for most of today  may the perc experience immerse you  the last thing my infj friend posted on his facebook before committing suicide the next day  rest in peace~     enfj7  sorry to hear of your distress  it s only natural for a relationship to not be perfection all the time in every moment of existence  try to figure the hard times as times of growth  as  84389  84390         welcome and stuff     game  set  match  prozac  wellbrutin  at least thirty minutes of moving your legs  and i don t mean moving them while sitting in your same desk chair  weed in moderation  maybe try edibles as a healthier alternative  basically come up with three items you ve determined that each type  or whichever types you want to do  would more than likely use  given each types  cognitive functions and whatnot  when left by  all things in moderation   sims i...  \n",
       "1      i m finding the lack of me in these posts very alarming  sex can be boring if it s in the same position often  for example me and my girlfriend are currently in an environment where we have to creatively use cowgirl and missionary  there isn t enough  giving new meaning to  game  theory  hello  entp grin   that s all it takes  than we converse and they do most of the flirting while i acknowledge their presence and return their words with smooth wordplay and more cheeky grins  this + lack of balance and hand eye coordination  real iq test i score 127  internet iq tests are funny  i score 140s or higher   now  like the former responses of this thread i will mention that i don t believe in the iq test  before you banish  you know you re an entp when you vanish from a site for a year and a half  return  and find people are still commenting on your posts and liking your ideas/thoughts  you know you re an entp when you    over think things sometimes  i go by the old sherlock holmes quot...  \n",
       "2      good one        course  to which i say i know  that s my blessing and my curse  does being absolutely positive that you and your best friend could be an amazing couple count? if so  than yes    or it s more i could be madly in love in case i reconciled my feelings  which at  no  i didn t  thank you for a link  so called ti si loop  and it can stem from any current topic/obsession  can be deadly  it s like when you re stuck in your own thoughts  and your mind just wanders in circles  feels truly terrible    have you noticed how peculiar vegetation can be? all you have to do is look down at the grass  dozens of different plant species there     and now imagine that hundreds of years later  when/if soil  the smiths – never had no one ever i often find myself spotting faces on marble tiles/wood  this 5 year old sentence is an incredibly accurate and beautiful description  i haven t visited this website in the last 3 years  so whoever reads this  and maybe even remembers me  which i hi...  \n",
       "3      dear intp    i enjoyed our conversation the other day   esoteric gabbing about the nature of the universe and the idea that every rule and social code being arbitrary constructs created  dear entj sub    long time no see   sincerely  alpha none of them  all other types hurt in deep existential ways that i want no part of  probably a sliding scale that depends on individual preferences  like everything in humanity  draco malfoy also  i d say he s either 358 or 368  i m either 358 or 385  though in which stacking to me is a somewhat arbitrary distinction to make as i believe that the core indicates primary motivation and has a hand in every action  therefore  a  i m not particularly introverted or extraverted  personally  that said  i would say i m somewhat unphased by either social interactions or being alone  what i d say i crave more so than anything is  dear type 9 infp   your absolute admiration of me is refreshing  you re a great girlfriend and i wish we both didn t have such ...  \n",
       "4      you re fired  that s another silly misconception  that approaching is logically is going to be the key to unlocking whatever it is you think you are entitled to    nobody wants to be approached with bs  but guys  he really wants to go on a super duper long ass vacation  c mon guys  his boss just doesn t listen or get it  he even approached him logically and everything  never mind  just go on permanent vacation  two months? i wouldn t be crazy about the idea  if you are really his best employee  then that s what may be cooking him  who wants their most reliable asset gone for that long?  entj employer  lol  its not like our views were unsolicited  what a victim  sometimes i just really like impoverished rap music      probably would have lost it too  his stonewalling was insignificant  he was being an idiot over semantics that didn t have any impact on anything  it s one thing to stone wall on critical shit  but  i would have just taken the project and gave them something later  th...  \n",
       "...                                                                                                                                                                                                                                                                                                                                                                                                                                                                                                                                                                                                                                                                                                                                                                                                                                                                                                                                                                                                                                       ...  \n",
       "8670     just because i always think of cats as fi doms for some reason      on websites that have become a haven for neo nazis  such as perc  i m such a nerd  i ve been learning dutch on duolingo and i m having so much fun   duolingo is the shit   oh my god i love this xd right wingers do this because they lack political consciousness  i doubt it  but if they are real then i hope to hell that they re nothing like the twilight vampires  i would agree that both are likely related to confidence levels  it makes sense to me that someone would be aggressive to overcompensate for a  sometimes perceived  shortcoming  both nazi germany and the soviet union were extremely nationalist  i can t think of a more nationalist country nowadays than the dprk   what separates your  nationalism  from theirs? you re not the only one  there are plenty of infps who are right wing conservatives/alt reich fascists here on perc  10am in which time zone? patrick walker has the voice of an angel      cloggies are...  \n",
       "8671   so if this thread already exists someplace else  which it does     how the heck to i delete this one here??? ooops i guess i didn t look too hard because i just started a movies every enfp should watch thread  so  this came up in the you know you re an enfp when  thread    pucca    here we go   it is done  d  this isn t a list of films with enfps in them  but rather ones that you believe enfps would  i know that i liked up   d i choose feeding myself joy over beating myself up ”   buddy wakefield [quote=pucca 2951774]i ve never seen it shocked quote]  me  neither    guess we should have a movie marathon of all movies enfps should watch   d that s hilarious  hahaha i used to pretend i had a bunch of dragon friends and a whole bunch of animals  like platypi and octopi and ocelots  and horses  etc  i was always rescuing my dragons from  wooo   i d love to be the tardis   d this is from my signature  actually  just look at all the quotes in my signature   i am a forest  and a night of...  \n",
       "8672   so many questions when i do these things   i would take the purple pill  pick winning lottery numbers  do whatever i want  i worked in a brewery for a couple years here  i dont know if you re familiar with the local micros/craft at all but mill st  was the name of it  their tankhouse is my favorite of anything local  i am going to summon the great and powerful mr cafebot and his song of destruction  the four horseman ride  count your days people of earth    intro  nick   the intp male   from a basement  this thread is obviously about the textbook definition of manliness  ruffin it  tuffin it  and going hard in the mother fking paint  stand up for yourself  you asked for the time off and it was approved  when they say  oh shit we are short staffed  where is badgers? they figure out you asked for it off  that s why you arn t there  lol excellent thread  nt the dc  i love watching baseball  and playing it  oh and i hate the yankees  i m 19  i ve had multiple partners  i consider myse...  \n",
       "8673   i am very conflicted right now when it comes to wanting children   i honestly had no maternal instinct whatsoever until recently   up until now  none of my close friends have had children  and i  if i had to guess for my closest friends   1  isfj 2  esfp 3  istj 4  xnfp 5  esfj  i don t know if this is correct or not because i don t know if  they  know their types  actually the xnfp  what you said in the last paragraph   as a teacher  this frustrates me too   there s a trend in education to combine classes more and more to contain a variety of types of students  which i won t  i can t say that i had much trouble with my community in general   i mean  if i m talking about my same age peers  i was never considered popular because i was too into artsy extracurricular  i do eat meat  and i do feel guilty about it   i have vaguely considered not eating meat  but i don t think i could actually do it because of my nutritional requirements   i need a high protein diet  well i am in the sa...  \n",
       "8674   it has been too long since i have been on personalitycafe   although it doesn t seem to have changed one bit   but i must say it is good to be back somewhere like this  usually i turn to doctor who    by the world around me  in one dream i have had i was being chased by a large shadowy creature  with someone else who i felt i had to save above all else  the dream ended after she reached safety  but as for what happened  well now my avatar is a doctor who clockwork creature  i always liked this monster because it is just a worker trying to do it s job  kind of  3 1st   thanks for your reply  i appreciate all the help i can get  2nd   i think everyone has the right to their opinion    however too many people abuse that right  p   yea  not doing the iron man thing xd  thanks for all the advice everyone   thanks    i think i needed some humour  i might show them this  maybe    i know they won t do anything harsh like throw me out or beat me   although i have places to go     but i rea...  \n",
       "\n",
       "[8675 rows x 2 columns]"
      ]
     },
     "execution_count": 38,
     "metadata": {},
     "output_type": "execute_result"
    }
   ],
   "source": [
    "# Drop rows where 'Post' has empty or whitespace-only cells\n",
    "mbti_df = mbti_df[mbti_df['Posts'].str.strip().str.len() > 0]\n",
    "mbti_df"
   ]
  },
  {
   "cell_type": "code",
   "execution_count": 39,
   "metadata": {},
   "outputs": [
    {
     "data": {
      "text/plain": [
       "Type     0\n",
       "Posts    0\n",
       "dtype: int64"
      ]
     },
     "execution_count": 39,
     "metadata": {},
     "output_type": "execute_result"
    }
   ],
   "source": [
    "null_sum = mbti_df.isnull().sum()\n",
    "null_sum"
   ]
  },
  {
   "cell_type": "code",
   "execution_count": 40,
   "metadata": {},
   "outputs": [
    {
     "data": {
      "text/plain": [
       "(8675, 2)"
      ]
     },
     "execution_count": 40,
     "metadata": {},
     "output_type": "execute_result"
    }
   ],
   "source": [
    "mbti_df.shape"
   ]
  },
  {
   "cell_type": "code",
   "execution_count": 41,
   "metadata": {},
   "outputs": [],
   "source": [
    "# # Define a function to strip punctuations from a text\n",
    "# def strip_functuations(text):\n",
    "#     return text.replace('.', '').replace('...', '').replace(',', ' ').replace('_____', ' ').replace('|||', ' ').replace(':',' ').replace('@', ' ')"
   ]
  },
  {
   "cell_type": "code",
   "execution_count": 42,
   "metadata": {},
   "outputs": [
    {
     "data": {
      "text/plain": [
       "0       and intj moments     sportscenter not top ten plays     pranks what has been the most life changing experience in your life?        on repeat for most of today  may the perc experience immerse you  the last thing my infj friend posted on his facebook before committing suicide the next day  rest in peace~     enfj7  sorry to hear of your distress  it s only natural for a relationship to not be perfection all the time in every moment of existence  try to figure the hard times as times of growth  as  84389  84390         welcome and stuff     game  set  match  prozac  wellbrutin  at least thirty minutes of moving your legs  and i don t mean moving them while sitting in your same desk chair  weed in moderation  maybe try edibles as a healthier alternative  basically come up with three items you ve determined that each type  or whichever types you want to do  would more than likely use  given each types  cognitive functions and whatnot  when left by  all things in moderation   sims i...\n",
       "1     i m finding the lack of me in these posts very alarming  sex can be boring if it s in the same position often  for example me and my girlfriend are currently in an environment where we have to creatively use cowgirl and missionary  there isn t enough  giving new meaning to  game  theory  hello  entp grin   that s all it takes  than we converse and they do most of the flirting while i acknowledge their presence and return their words with smooth wordplay and more cheeky grins  this + lack of balance and hand eye coordination  real iq test i score 127  internet iq tests are funny  i score 140s or higher   now  like the former responses of this thread i will mention that i don t believe in the iq test  before you banish  you know you re an entp when you vanish from a site for a year and a half  return  and find people are still commenting on your posts and liking your ideas/thoughts  you know you re an entp when you    over think things sometimes  i go by the old sherlock holmes quot...\n",
       "2     good one        course  to which i say i know  that s my blessing and my curse  does being absolutely positive that you and your best friend could be an amazing couple count? if so  than yes    or it s more i could be madly in love in case i reconciled my feelings  which at  no  i didn t  thank you for a link  so called ti si loop  and it can stem from any current topic/obsession  can be deadly  it s like when you re stuck in your own thoughts  and your mind just wanders in circles  feels truly terrible    have you noticed how peculiar vegetation can be? all you have to do is look down at the grass  dozens of different plant species there     and now imagine that hundreds of years later  when/if soil  the smiths – never had no one ever i often find myself spotting faces on marble tiles/wood  this 5 year old sentence is an incredibly accurate and beautiful description  i haven t visited this website in the last 3 years  so whoever reads this  and maybe even remembers me  which i hi...\n",
       "3     dear intp    i enjoyed our conversation the other day   esoteric gabbing about the nature of the universe and the idea that every rule and social code being arbitrary constructs created  dear entj sub    long time no see   sincerely  alpha none of them  all other types hurt in deep existential ways that i want no part of  probably a sliding scale that depends on individual preferences  like everything in humanity  draco malfoy also  i d say he s either 358 or 368  i m either 358 or 385  though in which stacking to me is a somewhat arbitrary distinction to make as i believe that the core indicates primary motivation and has a hand in every action  therefore  a  i m not particularly introverted or extraverted  personally  that said  i would say i m somewhat unphased by either social interactions or being alone  what i d say i crave more so than anything is  dear type 9 infp   your absolute admiration of me is refreshing  you re a great girlfriend and i wish we both didn t have such ...\n",
       "4     you re fired  that s another silly misconception  that approaching is logically is going to be the key to unlocking whatever it is you think you are entitled to    nobody wants to be approached with bs  but guys  he really wants to go on a super duper long ass vacation  c mon guys  his boss just doesn t listen or get it  he even approached him logically and everything  never mind  just go on permanent vacation  two months? i wouldn t be crazy about the idea  if you are really his best employee  then that s what may be cooking him  who wants their most reliable asset gone for that long?  entj employer  lol  its not like our views were unsolicited  what a victim  sometimes i just really like impoverished rap music      probably would have lost it too  his stonewalling was insignificant  he was being an idiot over semantics that didn t have any impact on anything  it s one thing to stone wall on critical shit  but  i would have just taken the project and gave them something later  th...\n",
       "Name: Posts, dtype: object"
      ]
     },
     "execution_count": 42,
     "metadata": {},
     "output_type": "execute_result"
    }
   ],
   "source": [
    "mbti_df['Posts'][:5]"
   ]
  },
  {
   "cell_type": "code",
   "execution_count": 44,
   "metadata": {},
   "outputs": [],
   "source": [
    "from nltk.stem import WordNetLemmatizer \n",
    "lemmatizer = WordNetLemmatizer()"
   ]
  },
  {
   "cell_type": "code",
   "execution_count": 45,
   "metadata": {},
   "outputs": [
    {
     "data": {
      "text/html": [
       "<div>\n",
       "<style scoped>\n",
       "    .dataframe tbody tr th:only-of-type {\n",
       "        vertical-align: middle;\n",
       "    }\n",
       "\n",
       "    .dataframe tbody tr th {\n",
       "        vertical-align: top;\n",
       "    }\n",
       "\n",
       "    .dataframe thead th {\n",
       "        text-align: right;\n",
       "    }\n",
       "</style>\n",
       "<table border=\"1\" class=\"dataframe\">\n",
       "  <thead>\n",
       "    <tr style=\"text-align: right;\">\n",
       "      <th></th>\n",
       "      <th>Type</th>\n",
       "      <th>Posts</th>\n",
       "    </tr>\n",
       "  </thead>\n",
       "  <tbody>\n",
       "    <tr>\n",
       "      <th>0</th>\n",
       "      <td>INFJ</td>\n",
       "      <td>[and, intj, moment, sportscenter, not, top, ten, play, prank, what, ha, been, the, most, life, changing, experience, in, your, life, ?, on, repeat, for, most, of, today, may, the, perc, experience, immerse, you, the, last, thing, my, infj, friend, posted, on, his, facebook, before, committing, suicide, the, next, day, rest, in, peace~, enfj7, sorry, to, hear, of, your, distress, it, s, only, natural, for, a, relationship, to, not, be, perfection, all, the, time, in, every, moment, of, existence, try, to, figure, the, hard, time, a, time, of, growth, a, 84389, 84390, welcome, and, stuff, game, set, match, prozac, wellbrutin, at, ...]</td>\n",
       "    </tr>\n",
       "    <tr>\n",
       "      <th>1</th>\n",
       "      <td>ENTP</td>\n",
       "      <td>[i, m, finding, the, lack, of, me, in, these, post, very, alarming, sex, can, be, boring, if, it, s, in, the, same, position, often, for, example, me, and, my, girlfriend, are, currently, in, an, environment, where, we, have, to, creatively, use, cowgirl, and, missionary, there, isn, t, enough, giving, new, meaning, to, game, theory, hello, entp, grin, that, s, all, it, take, than, we, converse, and, they, do, most, of, the, flirting, while, i, acknowledge, their, presence, and, return, their, word, with, smooth, wordplay, and, more, cheeky, grin, this, +, lack, of, balance, and, hand, eye, coordination, real, iq, test, ...]</td>\n",
       "    </tr>\n",
       "    <tr>\n",
       "      <th>2</th>\n",
       "      <td>INTP</td>\n",
       "      <td>[good, one, course, to, which, i, say, i, know, that, s, my, blessing, and, my, curse, doe, being, absolutely, positive, that, you, and, your, best, friend, could, be, an, amazing, couple, count, ?, if, so, than, yes, or, it, s, more, i, could, be, madly, in, love, in, case, i, reconciled, my, feeling, which, at, no, i, didn, t, thank, you, for, a, link, so, called, ti, si, loop, and, it, can, stem, from, any, current, topic/obsession, can, be, deadly, it, s, like, when, you, re, stuck, in, your, own, thought, and, your, mind, just, wanders, in, circle, feel, truly, ...]</td>\n",
       "    </tr>\n",
       "    <tr>\n",
       "      <th>3</th>\n",
       "      <td>INTJ</td>\n",
       "      <td>[dear, intp, i, enjoyed, our, conversation, the, other, day, esoteric, gabbing, about, the, nature, of, the, universe, and, the, idea, that, every, rule, and, social, code, being, arbitrary, construct, created, dear, entj, sub, long, time, no, see, sincerely, alpha, none, of, them, all, other, type, hurt, in, deep, existential, way, that, i, want, no, part, of, probably, a, sliding, scale, that, depends, on, individual, preference, like, everything, in, humanity, draco, malfoy, also, i, d, say, he, s, either, 358, or, 368, i, m, either, 358, or, 385, though, in, which, stacking, to, me, is, a, somewhat, arbitrary, distinction, to, make, ...]</td>\n",
       "    </tr>\n",
       "    <tr>\n",
       "      <th>4</th>\n",
       "      <td>ENTJ</td>\n",
       "      <td>[you, re, fired, that, s, another, silly, misconception, that, approaching, is, logically, is, going, to, be, the, key, to, unlocking, whatever, it, is, you, think, you, are, entitled, to, nobody, want, to, be, approached, with, b, but, guy, he, really, want, to, go, on, a, super, duper, long, as, vacation, c, mon, guy, his, bos, just, doesn, t, listen, or, get, it, he, even, approached, him, logically, and, everything, never, mind, just, go, on, permanent, vacation, two, month, ?, i, wouldn, t, be, crazy, about, the, idea, if, you, are, really, his, best, employee, then, that, s, what, may, be, ...]</td>\n",
       "    </tr>\n",
       "    <tr>\n",
       "      <th>...</th>\n",
       "      <td>...</td>\n",
       "      <td>...</td>\n",
       "    </tr>\n",
       "    <tr>\n",
       "      <th>8670</th>\n",
       "      <td>ISFP</td>\n",
       "      <td>[just, because, i, always, think, of, cat, a, fi, doms, for, some, reason, on, website, that, have, become, a, haven, for, neo, nazi, such, a, perc, i, m, such, a, nerd, i, ve, been, learning, dutch, on, duolingo, and, i, m, having, so, much, fun, duolingo, is, the, shit, oh, my, god, i, love, this, xd, right, winger, do, this, because, they, lack, political, consciousness, i, doubt, it, but, if, they, are, real, then, i, hope, to, hell, that, they, re, nothing, like, the, twilight, vampire, i, would, agree, that, both, are, likely, related, to, confidence, level, it, make, sense, ...]</td>\n",
       "    </tr>\n",
       "    <tr>\n",
       "      <th>8671</th>\n",
       "      <td>ENFP</td>\n",
       "      <td>[so, if, this, thread, already, exists, someplace, else, which, it, doe, how, the, heck, to, i, delete, this, one, here, ?, ?, ?, ooops, i, guess, i, didn, t, look, too, hard, because, i, just, started, a, movie, every, enfp, should, watch, thread, so, this, came, up, in, the, you, know, you, re, an, enfp, when, thread, pucca, here, we, go, it, is, done, d, this, isn, t, a, list, of, film, with, enfps, in, them, but, rather, one, that, you, believe, enfps, would, i, know, that, i, liked, up, d, i, choose, feeding, myself, joy, over, beating, myself, up, ...]</td>\n",
       "    </tr>\n",
       "    <tr>\n",
       "      <th>8672</th>\n",
       "      <td>INTP</td>\n",
       "      <td>[so, many, question, when, i, do, these, thing, i, would, take, the, purple, pill, pick, winning, lottery, number, do, whatever, i, want, i, worked, in, a, brewery, for, a, couple, year, here, i, dont, know, if, you, re, familiar, with, the, local, micros/craft, at, all, but, mill, st, wa, the, name, of, it, their, tankhouse, is, my, favorite, of, anything, local, i, am, going, to, summon, the, great, and, powerful, mr, cafebot, and, his, song, of, destruction, the, four, horseman, ride, count, your, day, people, of, earth, intro, nick, the, intp, male, from, a, basement, this, thread, is, obviously, about, ...]</td>\n",
       "    </tr>\n",
       "    <tr>\n",
       "      <th>8673</th>\n",
       "      <td>INFP</td>\n",
       "      <td>[i, am, very, conflicted, right, now, when, it, come, to, wanting, child, i, honestly, had, no, maternal, instinct, whatsoever, until, recently, up, until, now, none, of, my, close, friend, have, had, child, and, i, if, i, had, to, guess, for, my, closest, friend, 1, isfj, 2, esfp, 3, istj, 4, xnfp, 5, esfj, i, don, t, know, if, this, is, correct, or, not, because, i, don, t, know, if, they, know, their, type, actually, the, xnfp, what, you, said, in, the, last, paragraph, a, a, teacher, this, frustrates, me, too, there, s, a, trend, in, education, to, combine, class, more, ...]</td>\n",
       "    </tr>\n",
       "    <tr>\n",
       "      <th>8674</th>\n",
       "      <td>INFP</td>\n",
       "      <td>[it, ha, been, too, long, since, i, have, been, on, personalitycafe, although, it, doesn, t, seem, to, have, changed, one, bit, but, i, must, say, it, is, good, to, be, back, somewhere, like, this, usually, i, turn, to, doctor, who, by, the, world, around, me, in, one, dream, i, have, had, i, wa, being, chased, by, a, large, shadowy, creature, with, someone, else, who, i, felt, i, had, to, save, above, all, else, the, dream, ended, after, she, reached, safety, but, a, for, what, happened, well, now, my, avatar, is, a, doctor, who, clockwork, creature, i, always, liked, this, monster, ...]</td>\n",
       "    </tr>\n",
       "  </tbody>\n",
       "</table>\n",
       "<p>8675 rows × 2 columns</p>\n",
       "</div>"
      ],
      "text/plain": [
       "      Type  \\\n",
       "0     INFJ   \n",
       "1     ENTP   \n",
       "2     INTP   \n",
       "3     INTJ   \n",
       "4     ENTJ   \n",
       "...    ...   \n",
       "8670  ISFP   \n",
       "8671  ENFP   \n",
       "8672  INTP   \n",
       "8673  INFP   \n",
       "8674  INFP   \n",
       "\n",
       "                                                                                                                                                                                                                                                                                                                                                                                                                                                                                                                                                                                                                                                                          Posts  \n",
       "0              [and, intj, moment, sportscenter, not, top, ten, play, prank, what, ha, been, the, most, life, changing, experience, in, your, life, ?, on, repeat, for, most, of, today, may, the, perc, experience, immerse, you, the, last, thing, my, infj, friend, posted, on, his, facebook, before, committing, suicide, the, next, day, rest, in, peace~, enfj7, sorry, to, hear, of, your, distress, it, s, only, natural, for, a, relationship, to, not, be, perfection, all, the, time, in, every, moment, of, existence, try, to, figure, the, hard, time, a, time, of, growth, a, 84389, 84390, welcome, and, stuff, game, set, match, prozac, wellbrutin, at, ...]  \n",
       "1                      [i, m, finding, the, lack, of, me, in, these, post, very, alarming, sex, can, be, boring, if, it, s, in, the, same, position, often, for, example, me, and, my, girlfriend, are, currently, in, an, environment, where, we, have, to, creatively, use, cowgirl, and, missionary, there, isn, t, enough, giving, new, meaning, to, game, theory, hello, entp, grin, that, s, all, it, take, than, we, converse, and, they, do, most, of, the, flirting, while, i, acknowledge, their, presence, and, return, their, word, with, smooth, wordplay, and, more, cheeky, grin, this, +, lack, of, balance, and, hand, eye, coordination, real, iq, test, ...]  \n",
       "2                                                                             [good, one, course, to, which, i, say, i, know, that, s, my, blessing, and, my, curse, doe, being, absolutely, positive, that, you, and, your, best, friend, could, be, an, amazing, couple, count, ?, if, so, than, yes, or, it, s, more, i, could, be, madly, in, love, in, case, i, reconciled, my, feeling, which, at, no, i, didn, t, thank, you, for, a, link, so, called, ti, si, loop, and, it, can, stem, from, any, current, topic/obsession, can, be, deadly, it, s, like, when, you, re, stuck, in, your, own, thought, and, your, mind, just, wanders, in, circle, feel, truly, ...]  \n",
       "3     [dear, intp, i, enjoyed, our, conversation, the, other, day, esoteric, gabbing, about, the, nature, of, the, universe, and, the, idea, that, every, rule, and, social, code, being, arbitrary, construct, created, dear, entj, sub, long, time, no, see, sincerely, alpha, none, of, them, all, other, type, hurt, in, deep, existential, way, that, i, want, no, part, of, probably, a, sliding, scale, that, depends, on, individual, preference, like, everything, in, humanity, draco, malfoy, also, i, d, say, he, s, either, 358, or, 368, i, m, either, 358, or, 385, though, in, which, stacking, to, me, is, a, somewhat, arbitrary, distinction, to, make, ...]  \n",
       "4                                               [you, re, fired, that, s, another, silly, misconception, that, approaching, is, logically, is, going, to, be, the, key, to, unlocking, whatever, it, is, you, think, you, are, entitled, to, nobody, want, to, be, approached, with, b, but, guy, he, really, want, to, go, on, a, super, duper, long, as, vacation, c, mon, guy, his, bos, just, doesn, t, listen, or, get, it, he, even, approached, him, logically, and, everything, never, mind, just, go, on, permanent, vacation, two, month, ?, i, wouldn, t, be, crazy, about, the, idea, if, you, are, really, his, best, employee, then, that, s, what, may, be, ...]  \n",
       "...                                                                                                                                                                                                                                                                                                                                                                                                                                                                                                                                                                                                                                                                         ...  \n",
       "8670                                                           [just, because, i, always, think, of, cat, a, fi, doms, for, some, reason, on, website, that, have, become, a, haven, for, neo, nazi, such, a, perc, i, m, such, a, nerd, i, ve, been, learning, dutch, on, duolingo, and, i, m, having, so, much, fun, duolingo, is, the, shit, oh, my, god, i, love, this, xd, right, winger, do, this, because, they, lack, political, consciousness, i, doubt, it, but, if, they, are, real, then, i, hope, to, hell, that, they, re, nothing, like, the, twilight, vampire, i, would, agree, that, both, are, likely, related, to, confidence, level, it, make, sense, ...]  \n",
       "8671                                                                                       [so, if, this, thread, already, exists, someplace, else, which, it, doe, how, the, heck, to, i, delete, this, one, here, ?, ?, ?, ooops, i, guess, i, didn, t, look, too, hard, because, i, just, started, a, movie, every, enfp, should, watch, thread, so, this, came, up, in, the, you, know, you, re, an, enfp, when, thread, pucca, here, we, go, it, is, done, d, this, isn, t, a, list, of, film, with, enfps, in, them, but, rather, one, that, you, believe, enfps, would, i, know, that, i, liked, up, d, i, choose, feeding, myself, joy, over, beating, myself, up, ...]  \n",
       "8672                                [so, many, question, when, i, do, these, thing, i, would, take, the, purple, pill, pick, winning, lottery, number, do, whatever, i, want, i, worked, in, a, brewery, for, a, couple, year, here, i, dont, know, if, you, re, familiar, with, the, local, micros/craft, at, all, but, mill, st, wa, the, name, of, it, their, tankhouse, is, my, favorite, of, anything, local, i, am, going, to, summon, the, great, and, powerful, mr, cafebot, and, his, song, of, destruction, the, four, horseman, ride, count, your, day, people, of, earth, intro, nick, the, intp, male, from, a, basement, this, thread, is, obviously, about, ...]  \n",
       "8673                                                                  [i, am, very, conflicted, right, now, when, it, come, to, wanting, child, i, honestly, had, no, maternal, instinct, whatsoever, until, recently, up, until, now, none, of, my, close, friend, have, had, child, and, i, if, i, had, to, guess, for, my, closest, friend, 1, isfj, 2, esfp, 3, istj, 4, xnfp, 5, esfj, i, don, t, know, if, this, is, correct, or, not, because, i, don, t, know, if, they, know, their, type, actually, the, xnfp, what, you, said, in, the, last, paragraph, a, a, teacher, this, frustrates, me, too, there, s, a, trend, in, education, to, combine, class, more, ...]  \n",
       "8674                                                        [it, ha, been, too, long, since, i, have, been, on, personalitycafe, although, it, doesn, t, seem, to, have, changed, one, bit, but, i, must, say, it, is, good, to, be, back, somewhere, like, this, usually, i, turn, to, doctor, who, by, the, world, around, me, in, one, dream, i, have, had, i, wa, being, chased, by, a, large, shadowy, creature, with, someone, else, who, i, felt, i, had, to, save, above, all, else, the, dream, ended, after, she, reached, safety, but, a, for, what, happened, well, now, my, avatar, is, a, doctor, who, clockwork, creature, i, always, liked, this, monster, ...]  \n",
       "\n",
       "[8675 rows x 2 columns]"
      ]
     },
     "execution_count": 45,
     "metadata": {},
     "output_type": "execute_result"
    }
   ],
   "source": [
    "lemmatized_mbti_df = mbti_df.copy()\n",
    "\n",
    "lemmatized_mbti_df['Posts'] = [word_tokenize(post) for post in lemmatized_mbti_df['Posts']]\n",
    "lemmatized_mbti_df['Posts'] = lemmatized_mbti_df['Posts'].apply(lambda posts_words: [lemmatizer.lemmatize(word) for word in posts_words])\n",
    "\n",
    "\n",
    "lemmatized_mbti_df"
   ]
  },
  {
   "cell_type": "code",
   "execution_count": 46,
   "metadata": {},
   "outputs": [],
   "source": [
    "STOP_words = ['ha', 'is', 'to', 'with', 'of', 'for', 'this', 'it', 'on', 'and', \n",
    "            'that', 'an', 'are', 'the', 'wa', 'am', 'm', 's', 'a', '-','?','lol',\n",
    "            'i','be','did','like','you','in','my','have','me','your','what',\n",
    "            'do','but','not','so','if','or','just','at','all','we','can','ve',\n",
    "            'don','he','she','they','them','their','there','his','her','him', 't',\n",
    "            'o', 're', 'd','x','😂','😂😂',' ', 'estj', 'ESTJ','infp', 'INFP', 'INTP',\n",
    "            'intp','intj','INTJ','entp','ENTP', 'enfp','ENFP','ISTP','istp','ISFP',\n",
    "            'isfp','ENTJ','entj','ISTJ','istj','ENFJ','enfj','ISFJ','isfj','ESTP',\n",
    "            'estp','ESFP','esfp','esfj','ESFJ','infj','INFJ']\n",
    "\n",
    "lemmatized_mbti_df['Posts'] = lemmatized_mbti_df['Posts'].apply(lambda posts_words: [word for word in posts_words if word not in STOP_words])"
   ]
  },
  {
   "cell_type": "code",
   "execution_count": 47,
   "metadata": {},
   "outputs": [],
   "source": [
    "lemmatized_mbti_df.to_csv(r'/Users/zimoma/Documents/MACS30100/Project/processed_mbti.csv', index=False)"
   ]
  }
 ],
 "metadata": {
  "kernelspec": {
   "display_name": "base",
   "language": "python",
   "name": "python3"
  },
  "language_info": {
   "codemirror_mode": {
    "name": "ipython",
    "version": 3
   },
   "file_extension": ".py",
   "mimetype": "text/x-python",
   "name": "python",
   "nbconvert_exporter": "python",
   "pygments_lexer": "ipython3",
   "version": "3.10.9"
  }
 },
 "nbformat": 4,
 "nbformat_minor": 2
}
